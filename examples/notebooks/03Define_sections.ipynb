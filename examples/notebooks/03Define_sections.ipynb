{
 "cells": [
  {
   "cell_type": "markdown",
   "metadata": {},
   "source": [
    "# 3. Define calibration sections\n",
    "The goal of this notebook is to show how you can define calibration sections. That means that we define certain parts of the fiber to a timeseries of temperature measurements. Here, we assume the temperature timeseries is already part of the `DataStore` object."
   ]
  },
  {
   "cell_type": "code",
   "execution_count": 1,
   "metadata": {
    "execution": {
     "iopub.execute_input": "2022-05-21T09:35:33.502465Z",
     "iopub.status.busy": "2022-05-21T09:35:33.502171Z",
     "iopub.status.idle": "2022-05-21T09:35:50.199954Z",
     "shell.execute_reply": "2022-05-21T09:35:50.199565Z"
    }
   },
   "outputs": [],
   "source": [
    "import os\n",
    "\n",
    "from dtscalibration import read_silixa_files"
   ]
  },
  {
   "cell_type": "code",
   "execution_count": 2,
   "metadata": {
    "execution": {
     "iopub.execute_input": "2022-05-21T09:35:50.202181Z",
     "iopub.status.busy": "2022-05-21T09:35:50.202046Z",
     "iopub.status.idle": "2022-05-21T09:35:52.882652Z",
     "shell.execute_reply": "2022-05-21T09:35:52.882407Z"
    }
   },
   "outputs": [
    {
     "name": "stdout",
     "output_type": "stream",
     "text": [
      "6 files were found, each representing a single timestep\n",
      "6 recorded vars were found: LAF, ST, AST, REV-ST, REV-AST, TMP\n",
      "Recorded at 1693 points along the cable\n",
      "The measurement is double ended\n",
      "Reading the data from disk\n"
     ]
    },
    {
     "name": "stderr",
     "output_type": "stream",
     "text": [
      "/Volumes/GoogleDrive/My Drive/Projects/python-dts-calibration/src/dtscalibration/io.py:1843: FutureWarning: Using .astype to convert from timezone-aware dtype to timezone-naive dtype is deprecated and will raise in a future version.  Use obj.tz_localize(None) or obj.tz_convert('UTC').tz_localize(None) instead\n",
      "  'time', pd.DatetimeIndex(v).tz_convert(timezone_netcdf).astype(\n"
     ]
    }
   ],
   "source": [
    "filepath = os.path.join('..', '..', 'tests', 'data', 'double_ended2')\n",
    "ds = read_silixa_files(\n",
    "    directory=filepath,\n",
    "    timezone_netcdf='UTC',\n",
    "    file_ext='*.xml')"
   ]
  },
  {
   "cell_type": "markdown",
   "metadata": {},
   "source": [
    "First we have a look at which temperature timeseries are available for calibration. Therefore we access `ds.data_vars` and we find `probe1Temperature` and `probe2Temperature` that refer to the temperature measurement timeseries of the two probes attached to the Ultima.\n",
    "\n",
    "Alternatively, we can access the `ds.timeseries_keys` property to list all timeseries that can be used for calibration."
   ]
  },
  {
   "cell_type": "code",
   "execution_count": 3,
   "metadata": {
    "execution": {
     "iopub.execute_input": "2022-05-21T09:35:52.884142Z",
     "iopub.status.busy": "2022-05-21T09:35:52.884077Z",
     "iopub.status.idle": "2022-05-21T09:35:52.907636Z",
     "shell.execute_reply": "2022-05-21T09:35:52.907400Z"
    }
   },
   "outputs": [
    {
     "name": "stdout",
     "output_type": "stream",
     "text": [
      "['acquisitionTime', 'referenceTemperature', 'probe1Temperature', 'probe2Temperature', 'referenceProbeVoltage', 'probe1Voltage', 'probe2Voltage', 'userAcquisitionTimeFW', 'userAcquisitionTimeBW']\n"
     ]
    }
   ],
   "source": [
    "print(ds.timeseries_keys)    # list the available timeseeries\n",
    "ds.probe1Temperature.plot(figsize=(12, 8));  # plot one of the timeseries"
   ]
  },
  {
   "cell_type": "markdown",
   "metadata": {},
   "source": [
    "A calibration is needed to estimate temperature from Stokes and anti-Stokes measurements. There are three unknowns for a single ended calibration procedure $\\gamma$, $C$, and $\\alpha$. The parameters $\\gamma$ and $\\alpha$ remain constant over time, while $C$ may vary. \n",
    "\n",
    "At least two calibration sections of different temperatures are needed to perform a decent calibration procedure.\n",
    "\n",
    "This setup has two baths, named 'cold' and 'warm'. Each bath has 2 sections. `probe1Temperature` is the temperature timeseries of the cold bath and `probe2Temperature` is the temperature timeseries of the warm bath."
   ]
  },
  {
   "cell_type": "markdown",
   "metadata": {},
   "source": [
    "| Name section | Name reference temperature time series | Number of sections | Location of sections (m) |\n",
    "|--------------|:--------------------------------------:|:------------------:|:------------------------:|\n",
    "| Cold bath    |            probe1Temperature           |          2         |   7.5-17.0; 70.0-80.0  |\n",
    "| Warm bath    |            probe2Temperature           |          2         |  24.0-34.0; 85.0-95.0  |"
   ]
  },
  {
   "cell_type": "markdown",
   "metadata": {},
   "source": [
    "Sections are defined in a dictionary with its keywords of the names of the reference temperature time series. Its values are lists of slice objects, where each slice object is a section.\n",
    "\n",
    "Note that slice is part of the standard Python library and no import is required."
   ]
  },
  {
   "cell_type": "code",
   "execution_count": 4,
   "metadata": {
    "execution": {
     "iopub.execute_input": "2022-05-21T09:35:52.909131Z",
     "iopub.status.busy": "2022-05-21T09:35:52.909074Z",
     "iopub.status.idle": "2022-05-21T09:35:52.916507Z",
     "shell.execute_reply": "2022-05-21T09:35:52.916275Z"
    }
   },
   "outputs": [],
   "source": [
    "sections = {\n",
    "    'probe1Temperature': [slice(7.5, 17.), slice(70., 80.)],  # cold bath\n",
    "    'probe2Temperature': [slice(24., 34.), slice(85., 95.)],  # warm bath\n",
    "    }\n",
    "ds.sections = sections"
   ]
  },
  {
   "cell_type": "code",
   "execution_count": 5,
   "metadata": {
    "execution": {
     "iopub.execute_input": "2022-05-21T09:35:52.917788Z",
     "iopub.status.busy": "2022-05-21T09:35:52.917730Z",
     "iopub.status.idle": "2022-05-21T09:35:52.922451Z",
     "shell.execute_reply": "2022-05-21T09:35:52.922255Z"
    }
   },
   "outputs": [
    {
     "data": {
      "text/plain": [
       "{'probe1Temperature': [slice(7.5, 17.0, None), slice(70.0, 80.0, None)],\n",
       " 'probe2Temperature': [slice(24.0, 34.0, None), slice(85.0, 95.0, None)]}"
      ]
     },
     "execution_count": 5,
     "metadata": {},
     "output_type": "execute_result"
    }
   ],
   "source": [
    "ds.sections"
   ]
  },
  {
   "cell_type": "markdown",
   "metadata": {},
   "source": [
    "NetCDF files do not support reading/writing python dictionaries. Internally the sections dictionary is stored in `ds._sections` as a string encoded with yaml, which can be saved to a netCDF file. Each time the sections dictionary is requested, yaml decodes the string and evaluates it to the Python dictionary. "
   ]
  },
  {
   "cell_type": "code",
   "execution_count": 6,
   "metadata": {},
   "outputs": [],
   "source": []
  }
 ],
 "metadata": {
  "kernelspec": {
   "display_name": "Python 3",
   "language": "python",
   "name": "python3"
  },
  "language_info": {
   "codemirror_mode": {
    "name": "ipython",
    "version": 3
   },
   "file_extension": ".py",
   "mimetype": "text/x-python",
   "name": "python",
   "nbconvert_exporter": "python",
   "pygments_lexer": "ipython3",
   "version": "3.9.12"
  }
 },
 "nbformat": 4,
 "nbformat_minor": 2
}
