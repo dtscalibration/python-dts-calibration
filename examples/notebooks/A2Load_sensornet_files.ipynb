{
 "cells": [
  {
   "cell_type": "markdown",
   "metadata": {},
   "source": [
    "# A2. Loading sensornet files\n",
    "This example loads sensornet files. Both single-ended and double-ended measurements are supported."
   ]
  },
  {
   "cell_type": "code",
   "execution_count": 1,
   "metadata": {
    "execution": {
     "iopub.execute_input": "2022-05-21T09:49:47.510938Z",
     "iopub.status.busy": "2022-05-21T09:49:47.510458Z",
     "iopub.status.idle": "2022-05-21T09:50:05.054236Z",
     "shell.execute_reply": "2022-05-21T09:50:05.053855Z"
    }
   },
   "outputs": [],
   "source": [
    "import os\n",
    "import glob\n",
    "\n",
    "from dtscalibration import read_sensornet_files"
   ]
  },
  {
   "cell_type": "markdown",
   "metadata": {},
   "source": [
    "The example data files are located in `./python-dts-calibration/tests/data`."
   ]
  },
  {
   "cell_type": "code",
   "execution_count": 2,
   "metadata": {
    "execution": {
     "iopub.execute_input": "2022-05-21T09:50:05.056468Z",
     "iopub.status.busy": "2022-05-21T09:50:05.056346Z",
     "iopub.status.idle": "2022-05-21T09:50:05.058831Z",
     "shell.execute_reply": "2022-05-21T09:50:05.058533Z"
    }
   },
   "outputs": [
    {
     "name": "stdout",
     "output_type": "stream",
     "text": [
      "../../tests/data/sensornet_oryx_v3.7\n"
     ]
    }
   ],
   "source": [
    "filepath = os.path.join('..', '..', 'tests', 'data', 'sensornet_oryx_v3.7')\n",
    "print(filepath)"
   ]
  },
  {
   "cell_type": "code",
   "execution_count": 3,
   "metadata": {
    "execution": {
     "iopub.execute_input": "2022-05-21T09:50:05.080724Z",
     "iopub.status.busy": "2022-05-21T09:50:05.080590Z",
     "iopub.status.idle": "2022-05-21T09:50:05.085460Z",
     "shell.execute_reply": "2022-05-21T09:50:05.085201Z"
    }
   },
   "outputs": [
    {
     "name": "stdout",
     "output_type": "stream",
     "text": [
      "channel 1 20180107 202119 00001.ddf\n",
      "channel 1 20180107 202149 00001.ddf\n",
      "channel 1 20180107 202219 00001.ddf\n",
      "channel 1 20180107 202249 00001.ddf\n",
      "channel 1 20180107 202319 00001.ddf\n",
      "channel 1 20180107 202349 00001.ddf\n",
      "channel 1 20180107 202418 00001.ddf\n"
     ]
    }
   ],
   "source": [
    "filepathlist = sorted(glob.glob(os.path.join(filepath, '*.ddf')))\n",
    "filenamelist = [os.path.basename(path) for path in filepathlist]\n",
    "\n",
    "for fn in filenamelist:\n",
    "    print(fn)"
   ]
  },
  {
   "cell_type": "markdown",
   "metadata": {},
   "source": [
    "We will simply load in the sensornet files. As the sensornet files are of low spatial and temporal resolution, reading the data lazily into dask is not supported."
   ]
  },
  {
   "cell_type": "code",
   "execution_count": 4,
   "metadata": {
    "execution": {
     "iopub.execute_input": "2022-05-21T09:50:05.086998Z",
     "iopub.status.busy": "2022-05-21T09:50:05.086920Z",
     "iopub.status.idle": "2022-05-21T09:50:07.476998Z",
     "shell.execute_reply": "2022-05-21T09:50:07.476748Z"
    }
   },
   "outputs": [
    {
     "name": "stdout",
     "output_type": "stream",
     "text": [
      "7 files were found, each representing a single timestep\n",
      "Recorded at 2068 points along the cable\n",
      "The measurement is single ended\n"
     ]
    },
    {
     "name": "stderr",
     "output_type": "stream",
     "text": [
      "/Volumes/GoogleDrive/My Drive/Projects/python-dts-calibration/src/dtscalibration/io.py:1835: FutureWarning: Using .astype to convert from timezone-aware dtype to timezone-naive dtype is deprecated and will raise in a future version.  Use obj.tz_localize(None) or obj.tz_convert('UTC').tz_localize(None) instead\n",
      "  'time', pd.DatetimeIndex(v).tz_localize(\n"
     ]
    }
   ],
   "source": [
    "ds = read_sensornet_files(directory=filepath)"
   ]
  },
  {
   "cell_type": "markdown",
   "metadata": {},
   "source": [
    "The object tries to gather as much metadata from the measurement files as possible (temporal and spatial coordinates, filenames, temperature probes measurements). All other configuration settings are loaded from the first files and stored as attributes of the `DataStore`."
   ]
  },
  {
   "cell_type": "code",
   "execution_count": 5,
   "metadata": {
    "execution": {
     "iopub.execute_input": "2022-05-21T09:50:07.478462Z",
     "iopub.status.busy": "2022-05-21T09:50:07.478395Z",
     "iopub.status.idle": "2022-05-21T09:50:07.483326Z",
     "shell.execute_reply": "2022-05-21T09:50:07.483103Z"
    }
   },
   "outputs": [
    {
     "name": "stdout",
     "output_type": "stream",
     "text": [
      "<dtscalibration.DataStore>\n",
      "Sections:                  ()\n",
      "Dimensions:                (x: 1380, time: 7, trans_att: 0)\n",
      "Coordinates:\n",
      "  * x                      (x) float64 -49.97 -48.96 ... 1.348e+03 1.349e+03\n",
      "    filename               (time) <U35 'channel 1 20180107 202119 00001.ddf' ...\n",
      "    timestart              (time) datetime64[ns] 2018-01-07T20:20:49 ... 2018...\n",
      "    timeend                (time) datetime64[ns] 2018-01-07T20:21:19 ... 2018...\n",
      "  * time                   (time) datetime64[ns] 2018-01-07T20:21:04 ... 2018...\n",
      "    acquisitiontimeFW      (time) timedelta64[ns] 00:00:30 00:00:30 ... 00:00:30\n",
      "  * trans_att              (trans_att) float64 \n",
      "Data variables:\n",
      "    st                     (x, time) float64 1.482e+03 1.482e+03 ... -0.324\n",
      "    ast                    (x, time) float64 956.4 956.4 954.7 ... -0.121 0.458\n",
      "    tmp                    (x, time) float64 17.5 17.51 17.22 ... 700.0 312.9\n",
      "    probe1Temperature      (time) float64 3.12 3.09 3.09 3.07 3.07 3.12 3.07\n",
      "    probe2Temperature      (time) float64 1.259e+03 1.259e+03 ... 1.259e+03\n",
      "    referenceTemperature   (time) float64 15.34 15.37 15.34 ... 15.34 15.31\n",
      "    gamma_ddf              (time) float64 498.8 498.8 498.8 ... 498.8 498.8\n",
      "    k_internal             (time) float64 0.2786 0.2787 0.2786 ... 0.2785 0.2785\n",
      "    k_external             (time) float64 0.2786 0.2787 0.2786 ... 0.2785 0.2785\n",
      "    userAcquisitionTimeFW  (time) float64 30.0 30.0 30.0 30.0 30.0 30.0 30.0\n",
      "    userAcquisitionTimeBW  (time) float64 0.0 0.0 0.0 0.0 0.0 0.0 0.0\n",
      "Attributes: (12/21)\n",
      "    DTS Sentinel unit serial number:  SN409017\n",
      "    Multiplexer serial number:        ORYX\n",
      "    Hardware model number:            OX4\n",
      "    Software version number:          ORYX F/W v1,02 Oryx Data Collector v3.7...\n",
      "    data status:                      ok\n",
      "    installation:                     speulderbos2017nov21\n",
      "    ...                               ...\n",
      "    fibre end:                        0.00\n",
      "    default loss term dB per km:      0.3730\n",
      "\n",
      ".. and many more attributes. See: ds.attrs\n"
     ]
    }
   ],
   "source": [
    "print(ds)"
   ]
  },
  {
   "cell_type": "markdown",
   "metadata": {},
   "source": [
    "\n",
    "\n",
    "Double ended sensornet files are also supported. Note the REV-ST and REV-AST data variables."
   ]
  },
  {
   "cell_type": "code",
   "execution_count": 6,
   "metadata": {
    "execution": {
     "iopub.execute_input": "2022-05-21T09:50:07.484642Z",
     "iopub.status.busy": "2022-05-21T09:50:07.484585Z",
     "iopub.status.idle": "2022-05-21T09:50:07.598779Z",
     "shell.execute_reply": "2022-05-21T09:50:07.598533Z"
    }
   },
   "outputs": [
    {
     "name": "stdout",
     "output_type": "stream",
     "text": [
      "5 files were found, each representing a single timestep\n",
      "Recorded at 978 points along the cable\n",
      "The measurement is double ended\n",
      "<dtscalibration.DataStore>\n",
      "Sections:                  ()\n",
      "Dimensions:                (x: 712, time: 5, trans_att: 0)\n",
      "Coordinates: (12/14)\n",
      "  * x                      (x) float64 -49.28 -47.25 ... 1.391e+03 1.393e+03\n",
      "    filename               (time) <U32 'channel 1 20030111 002 00001.ddf' ......\n",
      "    timeFWstart            (time) datetime64[ns] 2003-01-11T03:05:09 ... 2003...\n",
      "    timeFWend              (time) datetime64[ns] 2003-01-11T03:06:09 ... 2003...\n",
      "    timeFW                 (time) datetime64[ns] 2003-01-11T03:05:39 ... 2003...\n",
      "    timeBWstart            (time) datetime64[ns] 2003-01-11T03:06:09 ... 2003...\n",
      "    ...                     ...\n",
      "    timestart              (time) datetime64[ns] 2003-01-11T03:05:09 ... 2003...\n",
      "    timeend                (time) datetime64[ns] 2003-01-11T03:07:09 ... 2003...\n",
      "  * time                   (time) datetime64[ns] 2003-01-11T03:06:09 ... 2003...\n",
      "    acquisitiontimeFW      (time) timedelta64[ns] 00:01:00 00:01:00 ... 00:01:00\n",
      "    acquisitiontimeBW      (time) timedelta64[ns] 00:01:00 00:01:00 ... 00:01:00\n",
      "  * trans_att              (trans_att) float64 \n",
      "Data variables: (12/13)\n",
      "    st                     (x, time) float64 1.882e+03 1.876e+03 ... -0.54\n",
      "    ast                    (x, time) float64 2.137e+03 2.135e+03 ... -0.681\n",
      "    tmp                    (x, time) float64 84.19 71.0 81.6 ... -44.31 -200.0\n",
      "    probe1Temperature      (time) float64 nan nan nan nan nan\n",
      "    probe2Temperature      (time) float64 nan nan nan nan nan\n",
      "    referenceTemperature   (time) float64 34.42 34.31 34.25 34.25 34.25\n",
      "    ...                     ...\n",
      "    k_internal             (time) float64 0.1902 0.1898 0.1898 0.1898 0.1898\n",
      "    k_external             (time) float64 0.1902 0.1898 0.1898 0.1898 0.1898\n",
      "    userAcquisitionTimeFW  (time) float64 60.05 60.05 60.05 60.05 60.05\n",
      "    userAcquisitionTimeBW  (time) float64 60.08 60.06 60.05 60.05 60.05\n",
      "    rst                    (x, time) float64 -0.384 -0.36 ... 1.76e+03 1.759e+03\n",
      "    rast                   (x, time) float64 -0.535 -0.633 ... 2.241e+03\n",
      "Attributes: (12/21)\n",
      "    DTS Sentinel unit serial number:  SN307009\n",
      "    Multiplexer serial number:        multiplexer serial number\n",
      "    Hardware model number:            HL4\n",
      "    Software version number:          Halo DTS v1.0\n",
      "    data status:                      ok\n",
      "    installation:                     NYAN30AUG2019\n",
      "    ...                               ...\n",
      "    fibre end:                        1298.10\n",
      "    default loss term dB per km:      0.3938\n",
      "\n",
      ".. and many more attributes. See: ds.attrs\n"
     ]
    }
   ],
   "source": [
    "filepath = os.path.join('..', '..', 'tests', 'data', 'sensornet_halo_v1.0')\n",
    "ds = read_sensornet_files(directory=filepath)\n",
    "print(ds)"
   ]
  }
 ],
 "metadata": {
  "kernelspec": {
   "display_name": "Python 3",
   "language": "python",
   "name": "python3"
  },
  "language_info": {
   "codemirror_mode": {
    "name": "ipython",
    "version": 3
   },
   "file_extension": ".py",
   "mimetype": "text/x-python",
   "name": "python",
   "nbconvert_exporter": "python",
   "pygments_lexer": "ipython3",
   "version": "3.9.12"
  }
 },
 "nbformat": 4,
 "nbformat_minor": 2
}
