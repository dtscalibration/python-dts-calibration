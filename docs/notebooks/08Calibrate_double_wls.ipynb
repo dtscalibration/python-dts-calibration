{
 "cells": [
  {
   "cell_type": "markdown",
   "metadata": {},
   "source": [
    "# 8. Calibration of double ended measurement with WLS and confidence intervals"
   ]
  },
  {
   "cell_type": "markdown",
   "metadata": {},
   "source": [
    "A double-ended calibration is performed where the unknown parameters are estimated using fiber sections that have a reference temperature. The parameters are estimated with a weighted least squares optimization using Stokes and anti-Stokes measurements from all timesteps. Thus Stokes and anti-Stokes measurements with a large signal to noise ratio contribute more towards estimating the optimal parameter set. But an estimate of the noise variance is required.\n",
    "\n",
    "Double-ended calibration requires a few steps. Please have a look at [1] for more information:\n",
    "1. Read the raw data files loaded from your DTS machine\n",
    "2. Define the reference sections: fiber sections that have a known temperature.\n",
    "3. Estimate the variance of the noise in the Stokes and anti-Stokes measurements\n",
    "4. Perform the parameter search and compute the temperature along the entire fiber.\n",
    "5. Compute the confidence intervals for the temperature\n",
    "\n",
    "[1]: des Tombe, B., Schilperoort, B., & Bakker, M. (2020). Estimation of Temperature and Associated Uncertainty from Fiber-Optic Raman-Spectrum Distributed Temperature Sensing. Sensors, 20(8), 2235. https://doi.org/10.3390/s20082235"
   ]
  },
  {
   "cell_type": "code",
   "execution_count": null,
   "metadata": {
    "execution": {
     "iopub.execute_input": "2022-04-06T08:10:13.277128Z",
     "iopub.status.busy": "2022-04-06T08:10:13.276102Z",
     "iopub.status.idle": "2022-04-06T08:10:14.748590Z",
     "shell.execute_reply": "2022-04-06T08:10:14.748034Z"
    }
   },
   "outputs": [],
   "source": [
    "import os\n",
    "import warnings\n",
    "\n",
    "warnings.simplefilter('ignore')  # Hide warnings to avoid clutter in the notebook\n",
    "\n",
    "\n",
    "from dtscalibration import read_silixa_files\n",
    "import matplotlib.pyplot as plt\n",
    "%matplotlib inline"
   ]
  },
  {
   "cell_type": "code",
   "execution_count": null,
   "metadata": {
    "execution": {
     "iopub.execute_input": "2022-04-06T08:10:14.751185Z",
     "iopub.status.busy": "2022-04-06T08:10:14.750883Z",
     "iopub.status.idle": "2022-04-06T08:10:15.050453Z",
     "shell.execute_reply": "2022-04-06T08:10:15.049751Z"
    }
   },
   "outputs": [],
   "source": [
    "filepath = os.path.join('..', '..', 'tests', 'data', 'double_ended2')\n",
    "\n",
    "ds_ = read_silixa_files(\n",
    "    directory=filepath,\n",
    "    timezone_netcdf='UTC',\n",
    "    file_ext='*.xml')\n",
    "\n",
    "ds = ds_.sel(x=slice(0, 100))  # only calibrate parts of the fiber\n",
    "sections = {\n",
    "    'probe1Temperature': [slice(7.5, 17.), slice(70., 80.)],  # cold bath\n",
    "    'probe2Temperature': [slice(24., 34.), slice(85., 95.)],  # warm bath\n",
    "    }\n",
    "ds.sections = sections"
   ]
  },
  {
   "cell_type": "markdown",
   "metadata": {},
   "source": [
    "First calculate the variance in the measured Stokes and anti-Stokes signals, in the forward and backward direction.\n",
    "\n",
    "The Stokes and anti-Stokes signals should follow a smooth decaying exponential. This function fits a decaying exponential to each reference section for each time step. The variance of the residuals between the measured Stokes and anti-Stokes signals and the fitted signals is used as an estimate of the variance in measured signals."
   ]
  },
  {
   "cell_type": "code",
   "execution_count": null,
   "metadata": {
    "execution": {
     "iopub.execute_input": "2022-04-06T08:10:15.053145Z",
     "iopub.status.busy": "2022-04-06T08:10:15.052975Z",
     "iopub.status.idle": "2022-04-06T08:10:15.811537Z",
     "shell.execute_reply": "2022-04-06T08:10:15.810996Z"
    }
   },
   "outputs": [],
   "source": [
    "st_var, resid = ds.variance_stokes_constant(st_label='st')\n",
    "ast_var, _ = ds.variance_stokes_constant(st_label='ast')\n",
    "rst_var, _ = ds.variance_stokes_constant(st_label='rst')\n",
    "rast_var, _ = ds.variance_stokes_constant(st_label='rast')"
   ]
  },
  {
   "cell_type": "code",
   "execution_count": null,
   "metadata": {
    "execution": {
     "iopub.execute_input": "2022-04-06T08:10:15.813904Z",
     "iopub.status.busy": "2022-04-06T08:10:15.813688Z",
     "iopub.status.idle": "2022-04-06T08:10:16.081331Z",
     "shell.execute_reply": "2022-04-06T08:10:16.080696Z"
    }
   },
   "outputs": [],
   "source": [
    "resid.plot(figsize=(12, 8));"
   ]
  },
  {
   "cell_type": "markdown",
   "metadata": {},
   "source": [
    "We calibrate the measurement with a single method call. The labels refer to the keys in the DataStore object containing the Stokes, anti-Stokes, reverse Stokes and reverse anti-Stokes. The variance in those measurements were calculated in the previous step. We use a sparse solver because it saves us memory."
   ]
  },
  {
   "cell_type": "code",
   "execution_count": null,
   "metadata": {
    "execution": {
     "iopub.execute_input": "2022-04-06T08:10:16.083711Z",
     "iopub.status.busy": "2022-04-06T08:10:16.083510Z",
     "iopub.status.idle": "2022-04-06T08:10:16.591924Z",
     "shell.execute_reply": "2022-04-06T08:10:16.591485Z"
    }
   },
   "outputs": [],
   "source": [
    "ds.calibration_double_ended(\n",
    "    st_var=st_var,\n",
    "    ast_var=ast_var,\n",
    "    rst_var=rst_var,\n",
    "    rast_var=rast_var,\n",
    "    store_tmpw='tmpw',\n",
    "    method='wls',\n",
    "    solver='sparse')"
   ]
  },
  {
   "cell_type": "code",
   "execution_count": null,
   "metadata": {
    "execution": {
     "iopub.execute_input": "2022-04-06T08:10:16.594307Z",
     "iopub.status.busy": "2022-04-06T08:10:16.594086Z",
     "iopub.status.idle": "2022-04-06T08:10:16.849150Z",
     "shell.execute_reply": "2022-04-06T08:10:16.848523Z"
    }
   },
   "outputs": [],
   "source": [
    "ds.tmpw.plot()"
   ]
  },
  {
   "cell_type": "markdown",
   "metadata": {},
   "source": [
    "## Confidence intervals"
   ]
  },
  {
   "cell_type": "markdown",
   "metadata": {},
   "source": [
    "With another method call we estimate the confidence intervals. If the method is `wls` and confidence intervals are passed to `conf_ints`, confidence intervals calculated. As weigths are correctly passed to the least squares procedure, the covariance matrix can be used as an estimator for the uncertainty in the parameters. This matrix holds the covariances between all the parameters. A large parameter set is generated from this matrix as part of the Monte Carlo routine, assuming the parameter space is normally distributed with their mean at the best estimate of the least squares procedure.\n",
    "\n",
    "The large parameter set is used to calculate a large set of temperatures. By using `percentiles` or `quantile` the 95% confidence interval of the calibrated temperature between 2.5% and 97.5% are calculated.\n",
    "\n",
    "The confidence intervals differ per time step. If you would like to calculate confidence intervals temporal averages or averages of fiber sections see notebook 16."
   ]
  },
  {
   "cell_type": "code",
   "execution_count": null,
   "metadata": {
    "execution": {
     "iopub.execute_input": "2022-04-06T08:10:16.851418Z",
     "iopub.status.busy": "2022-04-06T08:10:16.851224Z",
     "iopub.status.idle": "2022-04-06T08:10:17.113065Z",
     "shell.execute_reply": "2022-04-06T08:10:17.112475Z"
    }
   },
   "outputs": [],
   "source": [
    "ds.conf_int_double_ended(\n",
    "    st_var=st_var,\n",
    "    ast_var=ast_var,\n",
    "    rst_var=rst_var,\n",
    "    rast_var=rast_var,\n",
    "    conf_ints=[2.5, 50., 97.5],\n",
    "    mc_sample_size=500)  # <- choose a much larger sample size)"
   ]
  },
  {
   "cell_type": "code",
   "execution_count": null,
   "metadata": {
    "execution": {
     "iopub.execute_input": "2022-04-06T08:10:17.115378Z",
     "iopub.status.busy": "2022-04-06T08:10:17.115193Z",
     "iopub.status.idle": "2022-04-06T08:10:18.229389Z",
     "shell.execute_reply": "2022-04-06T08:10:18.228867Z"
    }
   },
   "outputs": [],
   "source": [
    "ds1 = ds.isel(time=-1)  # take only the first timestep\n",
    "ds1.tmpw.plot(linewidth=0.7, figsize=(12, 8))\n",
    "ds1.tmpw_mc.isel(CI=0).plot(linewidth=0.7, label='CI: 2.5%')\n",
    "ds1.tmpw_mc.isel(CI=2).plot(linewidth=0.7, label='CI: 97.5%')\n",
    "plt.legend();"
   ]
  },
  {
   "cell_type": "markdown",
   "metadata": {},
   "source": [
    "The DataArrays `tmpf_mc` and `tmpb_mc` and the dimension `CI` are added. `MC` stands for monte carlo and the `CI` dimension holds the confidence interval 'coordinates'."
   ]
  },
  {
   "cell_type": "code",
   "execution_count": null,
   "metadata": {
    "execution": {
     "iopub.execute_input": "2022-04-06T08:10:18.231907Z",
     "iopub.status.busy": "2022-04-06T08:10:18.231718Z",
     "iopub.status.idle": "2022-04-06T08:10:19.045574Z",
     "shell.execute_reply": "2022-04-06T08:10:19.045043Z"
    }
   },
   "outputs": [],
   "source": [
    "(ds1.tmpw_mc_var**0.5).plot(figsize=(12, 4));\n",
    "plt.ylabel('$\\sigma$ ($^\\circ$C)');"
   ]
  }
 ],
 "metadata": {
  "kernelspec": {
   "display_name": "Python 3",
   "language": "python",
   "name": "python3"
  },
  "language_info": {
   "codemirror_mode": {
    "name": "ipython",
    "version": 3
   },
   "file_extension": ".py",
   "mimetype": "text/x-python",
   "name": "python",
   "nbconvert_exporter": "python",
   "pygments_lexer": "ipython3",
   "version": "3.9.11"
  }
 },
 "nbformat": 4,
 "nbformat_minor": 4
}
