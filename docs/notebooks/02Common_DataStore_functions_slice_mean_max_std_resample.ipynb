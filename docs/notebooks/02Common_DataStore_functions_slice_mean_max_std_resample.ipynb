{
 "cells": [
  {
   "cell_type": "markdown",
   "metadata": {},
   "source": [
    "# 2. Common DataStore functions\n",
    "Examples of how to do some of the more commonly used functions:\n",
    "\n",
    "1. mean, min, max, std\n",
    "2. Selecting\n",
    "3. Selecting by index\n",
    "4. Downsample (time dimension)\n",
    "5. Upsample / Interpolation (length and time dimension)"
   ]
  },
  {
   "cell_type": "code",
   "execution_count": 1,
   "metadata": {
    "execution": {
     "iopub.execute_input": "2022-04-06T08:08:57.302425Z",
     "iopub.status.busy": "2022-04-06T08:08:57.301918Z",
     "iopub.status.idle": "2022-04-06T08:08:58.945453Z",
     "shell.execute_reply": "2022-04-06T08:08:58.944983Z"
    }
   },
   "outputs": [],
   "source": [
    "import os\n",
    "\n",
    "from dtscalibration import read_silixa_files"
   ]
  },
  {
   "cell_type": "markdown",
   "metadata": {},
   "source": [
    "First we load the raw measurements into a `DataStore` object, as we learned from the previous notebook."
   ]
  },
  {
   "cell_type": "code",
   "execution_count": 2,
   "metadata": {
    "execution": {
     "iopub.execute_input": "2022-04-06T08:08:58.948063Z",
     "iopub.status.busy": "2022-04-06T08:08:58.947893Z",
     "iopub.status.idle": "2022-04-06T08:08:59.145387Z",
     "shell.execute_reply": "2022-04-06T08:08:59.144710Z"
    }
   },
   "outputs": [
    {
     "name": "stdout",
     "output_type": "stream",
     "text": [
      "3 files were found, each representing a single timestep\n",
      "4 recorded vars were found: LAF, ST, AST, TMP\n",
      "Recorded at 1461 points along the cable\n",
      "The measurement is single ended\n",
      "Reading the data from disk\n"
     ]
    }
   ],
   "source": [
    "filepath = os.path.join(\"..\", \"..\", \"tests\", \"data\", \"single_ended\")\n",
    "\n",
    "ds = read_silixa_files(directory=filepath, timezone_netcdf=\"UTC\", file_ext=\"*.xml\")"
   ]
  },
  {
   "cell_type": "markdown",
   "metadata": {},
   "source": [
    "## 0 Access the data\n",
    "The implemented read routines try to read as much data from the raw DTS files as possible. Usually they would have coordinates (time and space) and Stokes and anti Stokes measurements. We can access the data by key. It is presented as a DataArray. More examples are found at http://xarray.pydata.org/en/stable/indexing.html"
   ]
  },
  {
   "cell_type": "code",
   "execution_count": 3,
   "metadata": {
    "execution": {
     "iopub.execute_input": "2022-04-06T08:08:59.171097Z",
     "iopub.status.busy": "2022-04-06T08:08:59.170926Z",
     "iopub.status.idle": "2022-04-06T08:08:59.201341Z",
     "shell.execute_reply": "2022-04-06T08:08:59.200765Z"
    }
   },
   "outputs": [
    {
     "data": {
      "text/html": [
       "<div><svg style=\"position: absolute; width: 0; height: 0; overflow: hidden\">\n",
       "<defs>\n",
       "<symbol id=\"icon-database\" viewBox=\"0 0 32 32\">\n",
       "<path d=\"M16 0c-8.837 0-16 2.239-16 5v4c0 2.761 7.163 5 16 5s16-2.239 16-5v-4c0-2.761-7.163-5-16-5z\"></path>\n",
       "<path d=\"M16 17c-8.837 0-16-2.239-16-5v6c0 2.761 7.163 5 16 5s16-2.239 16-5v-6c0 2.761-7.163 5-16 5z\"></path>\n",
       "<path d=\"M16 26c-8.837 0-16-2.239-16-5v6c0 2.761 7.163 5 16 5s16-2.239 16-5v-6c0 2.761-7.163 5-16 5z\"></path>\n",
       "</symbol>\n",
       "<symbol id=\"icon-file-text2\" viewBox=\"0 0 32 32\">\n",
       "<path d=\"M28.681 7.159c-0.694-0.947-1.662-2.053-2.724-3.116s-2.169-2.030-3.116-2.724c-1.612-1.182-2.393-1.319-2.841-1.319h-15.5c-1.378 0-2.5 1.121-2.5 2.5v27c0 1.378 1.122 2.5 2.5 2.5h23c1.378 0 2.5-1.122 2.5-2.5v-19.5c0-0.448-0.137-1.23-1.319-2.841zM24.543 5.457c0.959 0.959 1.712 1.825 2.268 2.543h-4.811v-4.811c0.718 0.556 1.584 1.309 2.543 2.268zM28 29.5c0 0.271-0.229 0.5-0.5 0.5h-23c-0.271 0-0.5-0.229-0.5-0.5v-27c0-0.271 0.229-0.5 0.5-0.5 0 0 15.499-0 15.5 0v7c0 0.552 0.448 1 1 1h7v19.5z\"></path>\n",
       "<path d=\"M23 26h-14c-0.552 0-1-0.448-1-1s0.448-1 1-1h14c0.552 0 1 0.448 1 1s-0.448 1-1 1z\"></path>\n",
       "<path d=\"M23 22h-14c-0.552 0-1-0.448-1-1s0.448-1 1-1h14c0.552 0 1 0.448 1 1s-0.448 1-1 1z\"></path>\n",
       "<path d=\"M23 18h-14c-0.552 0-1-0.448-1-1s0.448-1 1-1h14c0.552 0 1 0.448 1 1s-0.448 1-1 1z\"></path>\n",
       "</symbol>\n",
       "</defs>\n",
       "</svg>\n",
       "<style>/* CSS stylesheet for displaying xarray objects in jupyterlab.\n",
       " *\n",
       " */\n",
       "\n",
       ":root {\n",
       "  --xr-font-color0: var(--jp-content-font-color0, rgba(0, 0, 0, 1));\n",
       "  --xr-font-color2: var(--jp-content-font-color2, rgba(0, 0, 0, 0.54));\n",
       "  --xr-font-color3: var(--jp-content-font-color3, rgba(0, 0, 0, 0.38));\n",
       "  --xr-border-color: var(--jp-border-color2, #e0e0e0);\n",
       "  --xr-disabled-color: var(--jp-layout-color3, #bdbdbd);\n",
       "  --xr-background-color: var(--jp-layout-color0, white);\n",
       "  --xr-background-color-row-even: var(--jp-layout-color1, white);\n",
       "  --xr-background-color-row-odd: var(--jp-layout-color2, #eeeeee);\n",
       "}\n",
       "\n",
       "html[theme=dark],\n",
       "body.vscode-dark {\n",
       "  --xr-font-color0: rgba(255, 255, 255, 1);\n",
       "  --xr-font-color2: rgba(255, 255, 255, 0.54);\n",
       "  --xr-font-color3: rgba(255, 255, 255, 0.38);\n",
       "  --xr-border-color: #1F1F1F;\n",
       "  --xr-disabled-color: #515151;\n",
       "  --xr-background-color: #111111;\n",
       "  --xr-background-color-row-even: #111111;\n",
       "  --xr-background-color-row-odd: #313131;\n",
       "}\n",
       "\n",
       ".xr-wrap {\n",
       "  display: block !important;\n",
       "  min-width: 300px;\n",
       "  max-width: 700px;\n",
       "}\n",
       "\n",
       ".xr-text-repr-fallback {\n",
       "  /* fallback to plain text repr when CSS is not injected (untrusted notebook) */\n",
       "  display: none;\n",
       "}\n",
       "\n",
       ".xr-header {\n",
       "  padding-top: 6px;\n",
       "  padding-bottom: 6px;\n",
       "  margin-bottom: 4px;\n",
       "  border-bottom: solid 1px var(--xr-border-color);\n",
       "}\n",
       "\n",
       ".xr-header > div,\n",
       ".xr-header > ul {\n",
       "  display: inline;\n",
       "  margin-top: 0;\n",
       "  margin-bottom: 0;\n",
       "}\n",
       "\n",
       ".xr-obj-type,\n",
       ".xr-array-name {\n",
       "  margin-left: 2px;\n",
       "  margin-right: 10px;\n",
       "}\n",
       "\n",
       ".xr-obj-type {\n",
       "  color: var(--xr-font-color2);\n",
       "}\n",
       "\n",
       ".xr-sections {\n",
       "  padding-left: 0 !important;\n",
       "  display: grid;\n",
       "  grid-template-columns: 150px auto auto 1fr 20px 20px;\n",
       "}\n",
       "\n",
       ".xr-section-item {\n",
       "  display: contents;\n",
       "}\n",
       "\n",
       ".xr-section-item input {\n",
       "  display: none;\n",
       "}\n",
       "\n",
       ".xr-section-item input + label {\n",
       "  color: var(--xr-disabled-color);\n",
       "}\n",
       "\n",
       ".xr-section-item input:enabled + label {\n",
       "  cursor: pointer;\n",
       "  color: var(--xr-font-color2);\n",
       "}\n",
       "\n",
       ".xr-section-item input:enabled + label:hover {\n",
       "  color: var(--xr-font-color0);\n",
       "}\n",
       "\n",
       ".xr-section-summary {\n",
       "  grid-column: 1;\n",
       "  color: var(--xr-font-color2);\n",
       "  font-weight: 500;\n",
       "}\n",
       "\n",
       ".xr-section-summary > span {\n",
       "  display: inline-block;\n",
       "  padding-left: 0.5em;\n",
       "}\n",
       "\n",
       ".xr-section-summary-in:disabled + label {\n",
       "  color: var(--xr-font-color2);\n",
       "}\n",
       "\n",
       ".xr-section-summary-in + label:before {\n",
       "  display: inline-block;\n",
       "  content: '►';\n",
       "  font-size: 11px;\n",
       "  width: 15px;\n",
       "  text-align: center;\n",
       "}\n",
       "\n",
       ".xr-section-summary-in:disabled + label:before {\n",
       "  color: var(--xr-disabled-color);\n",
       "}\n",
       "\n",
       ".xr-section-summary-in:checked + label:before {\n",
       "  content: '▼';\n",
       "}\n",
       "\n",
       ".xr-section-summary-in:checked + label > span {\n",
       "  display: none;\n",
       "}\n",
       "\n",
       ".xr-section-summary,\n",
       ".xr-section-inline-details {\n",
       "  padding-top: 4px;\n",
       "  padding-bottom: 4px;\n",
       "}\n",
       "\n",
       ".xr-section-inline-details {\n",
       "  grid-column: 2 / -1;\n",
       "}\n",
       "\n",
       ".xr-section-details {\n",
       "  display: none;\n",
       "  grid-column: 1 / -1;\n",
       "  margin-bottom: 5px;\n",
       "}\n",
       "\n",
       ".xr-section-summary-in:checked ~ .xr-section-details {\n",
       "  display: contents;\n",
       "}\n",
       "\n",
       ".xr-array-wrap {\n",
       "  grid-column: 1 / -1;\n",
       "  display: grid;\n",
       "  grid-template-columns: 20px auto;\n",
       "}\n",
       "\n",
       ".xr-array-wrap > label {\n",
       "  grid-column: 1;\n",
       "  vertical-align: top;\n",
       "}\n",
       "\n",
       ".xr-preview {\n",
       "  color: var(--xr-font-color3);\n",
       "}\n",
       "\n",
       ".xr-array-preview,\n",
       ".xr-array-data {\n",
       "  padding: 0 5px !important;\n",
       "  grid-column: 2;\n",
       "}\n",
       "\n",
       ".xr-array-data,\n",
       ".xr-array-in:checked ~ .xr-array-preview {\n",
       "  display: none;\n",
       "}\n",
       "\n",
       ".xr-array-in:checked ~ .xr-array-data,\n",
       ".xr-array-preview {\n",
       "  display: inline-block;\n",
       "}\n",
       "\n",
       ".xr-dim-list {\n",
       "  display: inline-block !important;\n",
       "  list-style: none;\n",
       "  padding: 0 !important;\n",
       "  margin: 0;\n",
       "}\n",
       "\n",
       ".xr-dim-list li {\n",
       "  display: inline-block;\n",
       "  padding: 0;\n",
       "  margin: 0;\n",
       "}\n",
       "\n",
       ".xr-dim-list:before {\n",
       "  content: '(';\n",
       "}\n",
       "\n",
       ".xr-dim-list:after {\n",
       "  content: ')';\n",
       "}\n",
       "\n",
       ".xr-dim-list li:not(:last-child):after {\n",
       "  content: ',';\n",
       "  padding-right: 5px;\n",
       "}\n",
       "\n",
       ".xr-has-index {\n",
       "  font-weight: bold;\n",
       "}\n",
       "\n",
       ".xr-var-list,\n",
       ".xr-var-item {\n",
       "  display: contents;\n",
       "}\n",
       "\n",
       ".xr-var-item > div,\n",
       ".xr-var-item label,\n",
       ".xr-var-item > .xr-var-name span {\n",
       "  background-color: var(--xr-background-color-row-even);\n",
       "  margin-bottom: 0;\n",
       "}\n",
       "\n",
       ".xr-var-item > .xr-var-name:hover span {\n",
       "  padding-right: 5px;\n",
       "}\n",
       "\n",
       ".xr-var-list > li:nth-child(odd) > div,\n",
       ".xr-var-list > li:nth-child(odd) > label,\n",
       ".xr-var-list > li:nth-child(odd) > .xr-var-name span {\n",
       "  background-color: var(--xr-background-color-row-odd);\n",
       "}\n",
       "\n",
       ".xr-var-name {\n",
       "  grid-column: 1;\n",
       "}\n",
       "\n",
       ".xr-var-dims {\n",
       "  grid-column: 2;\n",
       "}\n",
       "\n",
       ".xr-var-dtype {\n",
       "  grid-column: 3;\n",
       "  text-align: right;\n",
       "  color: var(--xr-font-color2);\n",
       "}\n",
       "\n",
       ".xr-var-preview {\n",
       "  grid-column: 4;\n",
       "}\n",
       "\n",
       ".xr-var-name,\n",
       ".xr-var-dims,\n",
       ".xr-var-dtype,\n",
       ".xr-preview,\n",
       ".xr-attrs dt {\n",
       "  white-space: nowrap;\n",
       "  overflow: hidden;\n",
       "  text-overflow: ellipsis;\n",
       "  padding-right: 10px;\n",
       "}\n",
       "\n",
       ".xr-var-name:hover,\n",
       ".xr-var-dims:hover,\n",
       ".xr-var-dtype:hover,\n",
       ".xr-attrs dt:hover {\n",
       "  overflow: visible;\n",
       "  width: auto;\n",
       "  z-index: 1;\n",
       "}\n",
       "\n",
       ".xr-var-attrs,\n",
       ".xr-var-data {\n",
       "  display: none;\n",
       "  background-color: var(--xr-background-color) !important;\n",
       "  padding-bottom: 5px !important;\n",
       "}\n",
       "\n",
       ".xr-var-attrs-in:checked ~ .xr-var-attrs,\n",
       ".xr-var-data-in:checked ~ .xr-var-data {\n",
       "  display: block;\n",
       "}\n",
       "\n",
       ".xr-var-data > table {\n",
       "  float: right;\n",
       "}\n",
       "\n",
       ".xr-var-name span,\n",
       ".xr-var-data,\n",
       ".xr-attrs {\n",
       "  padding-left: 25px !important;\n",
       "}\n",
       "\n",
       ".xr-attrs,\n",
       ".xr-var-attrs,\n",
       ".xr-var-data {\n",
       "  grid-column: 1 / -1;\n",
       "}\n",
       "\n",
       "dl.xr-attrs {\n",
       "  padding: 0;\n",
       "  margin: 0;\n",
       "  display: grid;\n",
       "  grid-template-columns: 125px auto;\n",
       "}\n",
       "\n",
       ".xr-attrs dt,\n",
       ".xr-attrs dd {\n",
       "  padding: 0;\n",
       "  margin: 0;\n",
       "  float: left;\n",
       "  padding-right: 10px;\n",
       "  width: auto;\n",
       "}\n",
       "\n",
       ".xr-attrs dt {\n",
       "  font-weight: normal;\n",
       "  grid-column: 1;\n",
       "}\n",
       "\n",
       ".xr-attrs dt:hover span {\n",
       "  display: inline-block;\n",
       "  background: var(--xr-background-color);\n",
       "  padding-right: 10px;\n",
       "}\n",
       "\n",
       ".xr-attrs dd {\n",
       "  grid-column: 2;\n",
       "  white-space: pre-wrap;\n",
       "  word-break: break-all;\n",
       "}\n",
       "\n",
       ".xr-icon-database,\n",
       ".xr-icon-file-text2 {\n",
       "  display: inline-block;\n",
       "  vertical-align: middle;\n",
       "  width: 1em;\n",
       "  height: 1.5em !important;\n",
       "  stroke-width: 0;\n",
       "  stroke: currentColor;\n",
       "  fill: currentColor;\n",
       "}\n",
       "</style><pre class='xr-text-repr-fallback'>&lt;xarray.DataArray &#x27;st&#x27; (x: 1461, time: 3)&gt;\n",
       "array([[-8.05791e-01,  4.28741e-01, -5.13021e-01],\n",
       "       [-4.58870e-01, -1.24484e-01,  9.68469e-03],\n",
       "       [ 4.89174e-01, -9.57734e-02,  5.62837e-02],\n",
       "       ...,\n",
       "       [ 4.68457e+01,  4.72201e+01,  4.79139e+01],\n",
       "       [ 3.76634e+01,  3.74649e+01,  3.83160e+01],\n",
       "       [ 2.79879e+01,  2.78331e+01,  2.88055e+01]])\n",
       "Coordinates:\n",
       "  * x                  (x) float64 -80.74 -80.62 -80.49 ... 104.6 104.7 104.8\n",
       "    filename           (time) &lt;U31 &#x27;channel 2_20180504132202074.xml&#x27; ... &#x27;cha...\n",
       "    filename_tstamp    (time) int64 20180504132202074 ... 20180504132303723\n",
       "    timestart          (time) datetime64[ns] 2018-05-04T12:22:02.710000 ... 2...\n",
       "    timeend            (time) datetime64[ns] 2018-05-04T12:22:32.710000 ... 2...\n",
       "  * time               (time) datetime64[ns] 2018-05-04T12:22:17.710000 ... 2...\n",
       "    acquisitiontimeFW  (time) timedelta64[ns] 00:00:30 00:00:30 00:00:30\n",
       "Attributes:\n",
       "    name:         st\n",
       "    description:  Stokes intensity\n",
       "    units:        -</pre><div class='xr-wrap' style='display:none'><div class='xr-header'><div class='xr-obj-type'>xarray.DataArray</div><div class='xr-array-name'>'st'</div><ul class='xr-dim-list'><li><span class='xr-has-index'>x</span>: 1461</li><li><span class='xr-has-index'>time</span>: 3</li></ul></div><ul class='xr-sections'><li class='xr-section-item'><div class='xr-array-wrap'><input id='section-81ef9065-389f-4350-8de6-c125a50d0bb7' class='xr-array-in' type='checkbox' checked><label for='section-81ef9065-389f-4350-8de6-c125a50d0bb7' title='Show/hide data repr'><svg class='icon xr-icon-database'><use xlink:href='#icon-database'></use></svg></label><div class='xr-array-preview xr-preview'><span>-0.8058 0.4287 -0.513 -0.4589 -0.1245 ... 38.32 27.99 27.83 28.81</span></div><div class='xr-array-data'><pre>array([[-8.05791e-01,  4.28741e-01, -5.13021e-01],\n",
       "       [-4.58870e-01, -1.24484e-01,  9.68469e-03],\n",
       "       [ 4.89174e-01, -9.57734e-02,  5.62837e-02],\n",
       "       ...,\n",
       "       [ 4.68457e+01,  4.72201e+01,  4.79139e+01],\n",
       "       [ 3.76634e+01,  3.74649e+01,  3.83160e+01],\n",
       "       [ 2.79879e+01,  2.78331e+01,  2.88055e+01]])</pre></div></div></li><li class='xr-section-item'><input id='section-970ed805-83e5-4ca9-b273-805d17160945' class='xr-section-summary-in' type='checkbox'  checked><label for='section-970ed805-83e5-4ca9-b273-805d17160945' class='xr-section-summary' >Coordinates: <span>(7)</span></label><div class='xr-section-inline-details'></div><div class='xr-section-details'><ul class='xr-var-list'><li class='xr-var-item'><div class='xr-var-name'><span class='xr-has-index'>x</span></div><div class='xr-var-dims'>(x)</div><div class='xr-var-dtype'>float64</div><div class='xr-var-preview xr-preview'>-80.74 -80.62 ... 104.7 104.8</div><input id='attrs-3e57801f-c4a8-428a-bbe0-a6ce05166c5a' class='xr-var-attrs-in' type='checkbox' ><label for='attrs-3e57801f-c4a8-428a-bbe0-a6ce05166c5a' title='Show/Hide attributes'><svg class='icon xr-icon-file-text2'><use xlink:href='#icon-file-text2'></use></svg></label><input id='data-625e0397-820d-4722-a395-9e7d0d911a91' class='xr-var-data-in' type='checkbox'><label for='data-625e0397-820d-4722-a395-9e7d0d911a91' title='Show/Hide data repr'><svg class='icon xr-icon-database'><use xlink:href='#icon-database'></use></svg></label><div class='xr-var-attrs'><dl class='xr-attrs'><dt><span>name :</span></dt><dd>distance</dd><dt><span>description :</span></dt><dd>Length along fiber</dd><dt><span>long_description :</span></dt><dd>Starting at connector of forward channel</dd><dt><span>units :</span></dt><dd>m</dd></dl></div><div class='xr-var-data'><pre>array([-80.7443, -80.6172, -80.4901, ..., 104.567 , 104.694 , 104.821 ])</pre></div></li><li class='xr-var-item'><div class='xr-var-name'><span>filename</span></div><div class='xr-var-dims'>(time)</div><div class='xr-var-dtype'>&lt;U31</div><div class='xr-var-preview xr-preview'>&#x27;channel 2_20180504132202074.xml...</div><input id='attrs-075166b9-f36d-402f-9d51-add6493a453b' class='xr-var-attrs-in' type='checkbox' disabled><label for='attrs-075166b9-f36d-402f-9d51-add6493a453b' title='Show/Hide attributes'><svg class='icon xr-icon-file-text2'><use xlink:href='#icon-file-text2'></use></svg></label><input id='data-cac6ee40-623f-46ad-bd68-76a8ca9dd75d' class='xr-var-data-in' type='checkbox'><label for='data-cac6ee40-623f-46ad-bd68-76a8ca9dd75d' title='Show/Hide data repr'><svg class='icon xr-icon-database'><use xlink:href='#icon-database'></use></svg></label><div class='xr-var-attrs'><dl class='xr-attrs'></dl></div><div class='xr-var-data'><pre>array([&#x27;channel 2_20180504132202074.xml&#x27;,\n",
       "       &#x27;channel 2_20180504132232903.xml&#x27;,\n",
       "       &#x27;channel 2_20180504132303723.xml&#x27;], dtype=&#x27;&lt;U31&#x27;)</pre></div></li><li class='xr-var-item'><div class='xr-var-name'><span>filename_tstamp</span></div><div class='xr-var-dims'>(time)</div><div class='xr-var-dtype'>int64</div><div class='xr-var-preview xr-preview'>20180504132202074 ... 2018050413...</div><input id='attrs-4b6a4cc6-9d71-42e9-9bf4-40e1863fdd67' class='xr-var-attrs-in' type='checkbox' disabled><label for='attrs-4b6a4cc6-9d71-42e9-9bf4-40e1863fdd67' title='Show/Hide attributes'><svg class='icon xr-icon-file-text2'><use xlink:href='#icon-file-text2'></use></svg></label><input id='data-f4057474-5d59-4775-9f1f-f92299ca29b1' class='xr-var-data-in' type='checkbox'><label for='data-f4057474-5d59-4775-9f1f-f92299ca29b1' title='Show/Hide data repr'><svg class='icon xr-icon-database'><use xlink:href='#icon-database'></use></svg></label><div class='xr-var-attrs'><dl class='xr-attrs'></dl></div><div class='xr-var-data'><pre>array([20180504132202074, 20180504132232903, 20180504132303723])</pre></div></li><li class='xr-var-item'><div class='xr-var-name'><span>timestart</span></div><div class='xr-var-dims'>(time)</div><div class='xr-var-dtype'>datetime64[ns]</div><div class='xr-var-preview xr-preview'>2018-05-04T12:22:02.710000 ... 2...</div><input id='attrs-b2065ef1-2506-4e7c-83b8-686b696875fb' class='xr-var-attrs-in' type='checkbox' ><label for='attrs-b2065ef1-2506-4e7c-83b8-686b696875fb' title='Show/Hide attributes'><svg class='icon xr-icon-file-text2'><use xlink:href='#icon-file-text2'></use></svg></label><input id='data-8649833a-9398-4a2d-bf11-13e94b7467e4' class='xr-var-data-in' type='checkbox'><label for='data-8649833a-9398-4a2d-bf11-13e94b7467e4' title='Show/Hide data repr'><svg class='icon xr-icon-database'><use xlink:href='#icon-database'></use></svg></label><div class='xr-var-attrs'><dl class='xr-attrs'><dt><span>description :</span></dt><dd>time start of the measurement</dd><dt><span>timezone :</span></dt><dd>UTC</dd></dl></div><div class='xr-var-data'><pre>array([&#x27;2018-05-04T12:22:02.710000000&#x27;, &#x27;2018-05-04T12:22:32.702000000&#x27;,\n",
       "       &#x27;2018-05-04T12:23:03.716000000&#x27;], dtype=&#x27;datetime64[ns]&#x27;)</pre></div></li><li class='xr-var-item'><div class='xr-var-name'><span>timeend</span></div><div class='xr-var-dims'>(time)</div><div class='xr-var-dtype'>datetime64[ns]</div><div class='xr-var-preview xr-preview'>2018-05-04T12:22:32.710000 ... 2...</div><input id='attrs-318808a7-e629-4c11-ad57-5c792990f7be' class='xr-var-attrs-in' type='checkbox' ><label for='attrs-318808a7-e629-4c11-ad57-5c792990f7be' title='Show/Hide attributes'><svg class='icon xr-icon-file-text2'><use xlink:href='#icon-file-text2'></use></svg></label><input id='data-ef63a237-41f9-46ef-ae2e-7a037feddfc3' class='xr-var-data-in' type='checkbox'><label for='data-ef63a237-41f9-46ef-ae2e-7a037feddfc3' title='Show/Hide data repr'><svg class='icon xr-icon-database'><use xlink:href='#icon-database'></use></svg></label><div class='xr-var-attrs'><dl class='xr-attrs'><dt><span>description :</span></dt><dd>time end of the measurement</dd><dt><span>timezone :</span></dt><dd>UTC</dd></dl></div><div class='xr-var-data'><pre>array([&#x27;2018-05-04T12:22:32.710000000&#x27;, &#x27;2018-05-04T12:23:02.702000000&#x27;,\n",
       "       &#x27;2018-05-04T12:23:33.716000000&#x27;], dtype=&#x27;datetime64[ns]&#x27;)</pre></div></li><li class='xr-var-item'><div class='xr-var-name'><span class='xr-has-index'>time</span></div><div class='xr-var-dims'>(time)</div><div class='xr-var-dtype'>datetime64[ns]</div><div class='xr-var-preview xr-preview'>2018-05-04T12:22:17.710000 ... 2...</div><input id='attrs-8e000cf4-744a-4553-b044-04a3543b3a19' class='xr-var-attrs-in' type='checkbox' ><label for='attrs-8e000cf4-744a-4553-b044-04a3543b3a19' title='Show/Hide attributes'><svg class='icon xr-icon-file-text2'><use xlink:href='#icon-file-text2'></use></svg></label><input id='data-6f11fb1a-0435-4eb0-9b8c-3fa83c8b4319' class='xr-var-data-in' type='checkbox'><label for='data-6f11fb1a-0435-4eb0-9b8c-3fa83c8b4319' title='Show/Hide data repr'><svg class='icon xr-icon-database'><use xlink:href='#icon-database'></use></svg></label><div class='xr-var-attrs'><dl class='xr-attrs'><dt><span>description :</span></dt><dd>time halfway the measurement</dd><dt><span>timezone :</span></dt><dd>UTC</dd></dl></div><div class='xr-var-data'><pre>array([&#x27;2018-05-04T12:22:17.710000000&#x27;, &#x27;2018-05-04T12:22:47.702000000&#x27;,\n",
       "       &#x27;2018-05-04T12:23:18.716000000&#x27;], dtype=&#x27;datetime64[ns]&#x27;)</pre></div></li><li class='xr-var-item'><div class='xr-var-name'><span>acquisitiontimeFW</span></div><div class='xr-var-dims'>(time)</div><div class='xr-var-dtype'>timedelta64[ns]</div><div class='xr-var-preview xr-preview'>00:00:30 00:00:30 00:00:30</div><input id='attrs-b2b470b6-c72e-499c-b1b7-9abda0d41a72' class='xr-var-attrs-in' type='checkbox' ><label for='attrs-b2b470b6-c72e-499c-b1b7-9abda0d41a72' title='Show/Hide attributes'><svg class='icon xr-icon-file-text2'><use xlink:href='#icon-file-text2'></use></svg></label><input id='data-20c84592-4b40-4251-8977-04c7be4c7470' class='xr-var-data-in' type='checkbox'><label for='data-20c84592-4b40-4251-8977-04c7be4c7470' title='Show/Hide data repr'><svg class='icon xr-icon-database'><use xlink:href='#icon-database'></use></svg></label><div class='xr-var-attrs'><dl class='xr-attrs'><dt><span>description :</span></dt><dd>Acquisition time of the forward measurement</dd></dl></div><div class='xr-var-data'><pre>array([30000000000, 30000000000, 30000000000], dtype=&#x27;timedelta64[ns]&#x27;)</pre></div></li></ul></div></li><li class='xr-section-item'><input id='section-92b247e3-98d4-49d0-bec4-055112cad6af' class='xr-section-summary-in' type='checkbox'  checked><label for='section-92b247e3-98d4-49d0-bec4-055112cad6af' class='xr-section-summary' >Attributes: <span>(3)</span></label><div class='xr-section-inline-details'></div><div class='xr-section-details'><dl class='xr-attrs'><dt><span>name :</span></dt><dd>st</dd><dt><span>description :</span></dt><dd>Stokes intensity</dd><dt><span>units :</span></dt><dd>-</dd></dl></div></li></ul></div></div>"
      ],
      "text/plain": [
       "<xarray.DataArray 'st' (x: 1461, time: 3)>\n",
       "array([[-8.05791e-01,  4.28741e-01, -5.13021e-01],\n",
       "       [-4.58870e-01, -1.24484e-01,  9.68469e-03],\n",
       "       [ 4.89174e-01, -9.57734e-02,  5.62837e-02],\n",
       "       ...,\n",
       "       [ 4.68457e+01,  4.72201e+01,  4.79139e+01],\n",
       "       [ 3.76634e+01,  3.74649e+01,  3.83160e+01],\n",
       "       [ 2.79879e+01,  2.78331e+01,  2.88055e+01]])\n",
       "Coordinates:\n",
       "  * x                  (x) float64 -80.74 -80.62 -80.49 ... 104.6 104.7 104.8\n",
       "    filename           (time) <U31 'channel 2_20180504132202074.xml' ... 'cha...\n",
       "    filename_tstamp    (time) int64 20180504132202074 ... 20180504132303723\n",
       "    timestart          (time) datetime64[ns] 2018-05-04T12:22:02.710000 ... 2...\n",
       "    timeend            (time) datetime64[ns] 2018-05-04T12:22:32.710000 ... 2...\n",
       "  * time               (time) datetime64[ns] 2018-05-04T12:22:17.710000 ... 2...\n",
       "    acquisitiontimeFW  (time) timedelta64[ns] 00:00:30 00:00:30 00:00:30\n",
       "Attributes:\n",
       "    name:         st\n",
       "    description:  Stokes intensity\n",
       "    units:        -"
      ]
     },
     "execution_count": 3,
     "metadata": {},
     "output_type": "execute_result"
    }
   ],
   "source": [
    "ds[\"st\"]  # is the data stored, presented as a DataArray"
   ]
  },
  {
   "cell_type": "code",
   "execution_count": 4,
   "metadata": {
    "execution": {
     "iopub.execute_input": "2022-04-06T08:08:59.203775Z",
     "iopub.status.busy": "2022-04-06T08:08:59.203591Z",
     "iopub.status.idle": "2022-04-06T08:08:59.265177Z",
     "shell.execute_reply": "2022-04-06T08:08:59.264679Z"
    }
   },
   "outputs": [
    {
     "data": {
      "image/png": "[encoded data removed]",
      "text/plain": [
       "<Figure size 1200x800 with 2 Axes>"
      ]
     },
     "metadata": {},
     "output_type": "display_data"
    }
   ],
   "source": [
    "ds[\"tmp\"].plot(figsize=(12, 8));"
   ]
  },
  {
   "cell_type": "markdown",
   "metadata": {},
   "source": [
    "## 1 mean, min, max\n",
    "The first argument is the dimension. The function is taken along that dimension. `dim` can be any dimension (e.g., `time`, `x`). The returned `DataStore` does not contain that dimension anymore.\n",
    "\n",
    "Normally, you would like to keep the attributes (the informative texts from the loaded files), so set `keep_attrs` to `True`. They don't take any space compared to your Stokes data, so keep them.\n",
    "\n",
    "Note that also the sections are stored as attribute. If you delete the attributes, you would have to redefine the sections."
   ]
  },
  {
   "cell_type": "code",
   "execution_count": 5,
   "metadata": {
    "execution": {
     "iopub.execute_input": "2022-04-06T08:08:59.267698Z",
     "iopub.status.busy": "2022-04-06T08:08:59.267493Z",
     "iopub.status.idle": "2022-04-06T08:08:59.273319Z",
     "shell.execute_reply": "2022-04-06T08:08:59.272886Z"
    }
   },
   "outputs": [],
   "source": [
    "ds_min = ds.mean(\n",
    "    dim=\"time\", keep_attrs=True\n",
    ")  # take the minimum of all data variables (e.g., Stokes, Temperature) along the time dimension"
   ]
  },
  {
   "cell_type": "code",
   "execution_count": 6,
   "metadata": {
    "execution": {
     "iopub.execute_input": "2022-04-06T08:08:59.275670Z",
     "iopub.status.busy": "2022-04-06T08:08:59.275507Z",
     "iopub.status.idle": "2022-04-06T08:08:59.279270Z",
     "shell.execute_reply": "2022-04-06T08:08:59.278851Z"
    }
   },
   "outputs": [],
   "source": [
    "ds_max = ds.max(\n",
    "    dim=\"x\", keep_attrs=True\n",
    ")  # Take the maximum of all data variables (e.g., Stokes, Temperature) along the x dimension"
   ]
  },
  {
   "cell_type": "code",
   "execution_count": 7,
   "metadata": {
    "execution": {
     "iopub.execute_input": "2022-04-06T08:08:59.281530Z",
     "iopub.status.busy": "2022-04-06T08:08:59.281321Z",
     "iopub.status.idle": "2022-04-06T08:08:59.287525Z",
     "shell.execute_reply": "2022-04-06T08:08:59.286991Z"
    }
   },
   "outputs": [],
   "source": [
    "ds_std = ds.std(\n",
    "    dim=\"time\", keep_attrs=True\n",
    ")  # Calculate the standard deviation along the time dimension"
   ]
  },
  {
   "cell_type": "markdown",
   "metadata": {},
   "source": [
    "## 2 Selecting\n",
    "What if you would like to get the maximum temperature between $x >= 20$ m and $x < 35$ m over time? We first have to select a section along the cable."
   ]
  },
  {
   "cell_type": "code",
   "execution_count": 8,
   "metadata": {
    "execution": {
     "iopub.execute_input": "2022-04-06T08:08:59.290091Z",
     "iopub.status.busy": "2022-04-06T08:08:59.289877Z",
     "iopub.status.idle": "2022-04-06T08:08:59.293824Z",
     "shell.execute_reply": "2022-04-06T08:08:59.293152Z"
    }
   },
   "outputs": [],
   "source": [
    "section = slice(20.0, 35.0)\n",
    "section_of_interest = ds.sel(x=section)"
   ]
  },
  {
   "cell_type": "code",
   "execution_count": 9,
   "metadata": {
    "execution": {
     "iopub.execute_input": "2022-04-06T08:08:59.296109Z",
     "iopub.status.busy": "2022-04-06T08:08:59.295850Z",
     "iopub.status.idle": "2022-04-06T08:08:59.299802Z",
     "shell.execute_reply": "2022-04-06T08:08:59.299282Z"
    }
   },
   "outputs": [],
   "source": [
    "section_of_interest_max = section_of_interest.max(dim=\"x\")"
   ]
  },
  {
   "cell_type": "markdown",
   "metadata": {},
   "source": [
    "What if you would like to have the measurement at approximately $x=20$ m?"
   ]
  },
  {
   "cell_type": "code",
   "execution_count": 10,
   "metadata": {
    "execution": {
     "iopub.execute_input": "2022-04-06T08:08:59.302128Z",
     "iopub.status.busy": "2022-04-06T08:08:59.301950Z",
     "iopub.status.idle": "2022-04-06T08:08:59.306081Z",
     "shell.execute_reply": "2022-04-06T08:08:59.305484Z"
    }
   },
   "outputs": [],
   "source": [
    "point_of_interest = ds.sel(x=20.0, method=\"nearest\")"
   ]
  },
  {
   "cell_type": "markdown",
   "metadata": {},
   "source": [
    "## 3 Selecting by index\n",
    "What if you would like to see what the values on the first timestep are? We can use isel (index select) "
   ]
  },
  {
   "cell_type": "code",
   "execution_count": 11,
   "metadata": {
    "execution": {
     "iopub.execute_input": "2022-04-06T08:08:59.308603Z",
     "iopub.status.busy": "2022-04-06T08:08:59.308281Z",
     "iopub.status.idle": "2022-04-06T08:08:59.312353Z",
     "shell.execute_reply": "2022-04-06T08:08:59.311877Z"
    },
    "scrolled": true
   },
   "outputs": [],
   "source": [
    "section_of_interest = ds.isel(time=slice(0, 2))  # The first two time steps"
   ]
  },
  {
   "cell_type": "code",
   "execution_count": 12,
   "metadata": {
    "execution": {
     "iopub.execute_input": "2022-04-06T08:08:59.314626Z",
     "iopub.status.busy": "2022-04-06T08:08:59.314411Z",
     "iopub.status.idle": "2022-04-06T08:08:59.317904Z",
     "shell.execute_reply": "2022-04-06T08:08:59.317392Z"
    }
   },
   "outputs": [],
   "source": [
    "section_of_interest = ds.isel(x=0)"
   ]
  },
  {
   "cell_type": "markdown",
   "metadata": {},
   "source": [
    "## 4 Downsample (time dimension)\n",
    "We currently have measurements at 3 time steps, with 30.001 seconds inbetween. For our next exercise we would like to down sample the measurements to 2 time steps with 47 seconds inbetween. The calculated variances are not valid anymore. We use the function `resample` from xarray."
   ]
  },
  {
   "cell_type": "code",
   "execution_count": 28,
   "metadata": {},
   "outputs": [],
   "source": [
    "# We use the logic from xarray to resample. However, it returns an xarray dataset type\n",
    "import xarray as xr\n",
    "ds_xarray = xr.Dataset(ds).resample(time=\"47S\").mean()\n",
    "\n",
    "# Therefore we convert it back to the dtscalibration Datastore type.\n",
    "from dtscalibration import DataStore\n",
    "ds_resampled2 = DataStore(ds_xarray)"
   ]
  },
  {
   "cell_type": "markdown",
   "metadata": {},
   "source": [
    "Note that the resample function from dtscalibration has been removed in v2.0.1. The above example works versions from before 2.0.1 as well. Starting with version 2.0.1 the `xr.Dataset(ds).resample()` may become `ds.resample()`."
   ]
  },
  {
   "cell_type": "markdown",
   "metadata": {},
   "source": [
    "## 5 Upsample / Interpolation (length and time dimension)\n",
    "So we have measurements every 0.12 cm starting at $x=0$ m. What if we would like to change our coordinate system to have a value every 12 cm starting at $x=0.05$ m. We use (linear) interpolation, extrapolation is not supported. The calculated variances are not valid anymore."
   ]
  },
  {
   "cell_type": "code",
   "execution_count": null,
   "metadata": {
    "execution": {
     "iopub.execute_input": "2022-04-06T08:08:59.344388Z",
     "iopub.status.busy": "2022-04-06T08:08:59.344165Z",
     "iopub.status.idle": "2022-04-06T08:08:59.353186Z",
     "shell.execute_reply": "2022-04-06T08:08:59.352734Z"
    }
   },
   "outputs": [],
   "source": [
    "x_old = ds.x.data\n",
    "x_new = x_old[:-1] + 0.05  # no extrapolation\n",
    "ds_xinterped = ds.interp(coords={\"x\": x_new})"
   ]
  },
  {
   "cell_type": "markdown",
   "metadata": {},
   "source": [
    "We can do the same in the time dimension"
   ]
  },
  {
   "cell_type": "code",
   "execution_count": null,
   "metadata": {
    "execution": {
     "iopub.execute_input": "2022-04-06T08:08:59.355702Z",
     "iopub.status.busy": "2022-04-06T08:08:59.355479Z",
     "iopub.status.idle": "2022-04-06T08:08:59.371585Z",
     "shell.execute_reply": "2022-04-06T08:08:59.371063Z"
    }
   },
   "outputs": [],
   "source": [
    "import numpy as np\n",
    "\n",
    "time_old = ds.time.data\n",
    "time_new = time_old + np.timedelta64(10, \"s\")\n",
    "ds_tinterped = ds.interp(coords={\"time\": time_new})"
   ]
  },
  {
   "cell_type": "code",
   "execution_count": null,
   "metadata": {},
   "outputs": [],
   "source": []
  }
 ],
 "metadata": {
  "kernelspec": {
   "display_name": "Python 3 (ipykernel)",
   "language": "python",
   "name": "python3"
  },
  "language_info": {
   "codemirror_mode": {
    "name": "ipython",
    "version": 3
   },
   "file_extension": ".py",
   "mimetype": "text/x-python",
   "name": "python",
   "nbconvert_exporter": "python",
   "pygments_lexer": "ipython3",
   "version": "3.10.10"
  }
 },
 "nbformat": 4,
 "nbformat_minor": 2
}
