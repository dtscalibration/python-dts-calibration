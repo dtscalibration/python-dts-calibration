{
 "cells": [
  {
   "cell_type": "markdown",
   "metadata": {},
   "source": [
    "# 2. Common DataStore functions\n",
    "Examples of how to do some of the more commonly used functions:\n",
    "\n",
    "1. mean, min, max, std\n",
    "2. Selecting\n",
    "3. Selecting by index\n",
    "4. Downsample (time dimension)\n",
    "5. Upsample / Interpolation (length and time dimension)"
   ]
  },
  {
   "cell_type": "code",
   "execution_count": null,
   "metadata": {
    "execution": {
     "iopub.execute_input": "2022-04-06T08:08:57.302425Z",
     "iopub.status.busy": "2022-04-06T08:08:57.301918Z",
     "iopub.status.idle": "2022-04-06T08:08:58.945453Z",
     "shell.execute_reply": "2022-04-06T08:08:58.944983Z"
    }
   },
   "outputs": [],
   "source": [
    "import os\n",
    "\n",
    "from dtscalibration import read_silixa_files"
   ]
  },
  {
   "cell_type": "markdown",
   "metadata": {},
   "source": [
    "First we load the raw measurements into a `DataStore` object, as we learned from the previous notebook."
   ]
  },
  {
   "cell_type": "code",
   "execution_count": null,
   "metadata": {
    "execution": {
     "iopub.execute_input": "2022-04-06T08:08:58.948063Z",
     "iopub.status.busy": "2022-04-06T08:08:58.947893Z",
     "iopub.status.idle": "2022-04-06T08:08:59.145387Z",
     "shell.execute_reply": "2022-04-06T08:08:59.144710Z"
    }
   },
   "outputs": [],
   "source": [
    "filepath = os.path.join(\"..\", \"..\", \"tests\", \"data\", \"single_ended\")\n",
    "\n",
    "ds = read_silixa_files(directory=filepath, timezone_netcdf=\"UTC\", file_ext=\"*.xml\")"
   ]
  },
  {
   "cell_type": "markdown",
   "metadata": {},
   "source": [
    "## 0 Access the data\n",
    "The implemented read routines try to read as much data from the raw DTS files as possible. Usually they would have coordinates (time and space) and Stokes and anti Stokes measurements. We can access the data by key. It is presented as a DataArray. More examples are found at http://xarray.pydata.org/en/stable/indexing.html"
   ]
  },
  {
   "cell_type": "code",
   "execution_count": null,
   "metadata": {
    "execution": {
     "iopub.execute_input": "2022-04-06T08:08:59.171097Z",
     "iopub.status.busy": "2022-04-06T08:08:59.170926Z",
     "iopub.status.idle": "2022-04-06T08:08:59.201341Z",
     "shell.execute_reply": "2022-04-06T08:08:59.200765Z"
    }
   },
   "outputs": [],
   "source": [
    "ds[\"st\"]  # is the data stored, presented as a DataArray"
   ]
  },
  {
   "cell_type": "code",
   "execution_count": null,
   "metadata": {
    "execution": {
     "iopub.execute_input": "2022-04-06T08:08:59.203775Z",
     "iopub.status.busy": "2022-04-06T08:08:59.203591Z",
     "iopub.status.idle": "2022-04-06T08:08:59.265177Z",
     "shell.execute_reply": "2022-04-06T08:08:59.264679Z"
    }
   },
   "outputs": [],
   "source": [
    "ds[\"tmp\"].plot(figsize=(12, 8));"
   ]
  },
  {
   "cell_type": "markdown",
   "metadata": {},
   "source": [
    "## 1 mean, min, max\n",
    "The first argument is the dimension. The function is taken along that dimension. `dim` can be any dimension (e.g., `time`, `x`). The returned `DataStore` does not contain that dimension anymore.\n",
    "\n",
    "Normally, you would like to keep the attributes (the informative texts from the loaded files), so set `keep_attrs` to `True`. They don't take any space compared to your Stokes data, so keep them.\n",
    "\n",
    "Note that also the sections are stored as attribute. If you delete the attributes, you would have to redefine the sections."
   ]
  },
  {
   "cell_type": "code",
   "execution_count": null,
   "metadata": {
    "execution": {
     "iopub.execute_input": "2022-04-06T08:08:59.267698Z",
     "iopub.status.busy": "2022-04-06T08:08:59.267493Z",
     "iopub.status.idle": "2022-04-06T08:08:59.273319Z",
     "shell.execute_reply": "2022-04-06T08:08:59.272886Z"
    }
   },
   "outputs": [],
   "source": [
    "ds_min = ds.mean(\n",
    "    dim=\"time\", keep_attrs=True\n",
    ")  # take the minimum of all data variables (e.g., Stokes, Temperature) along the time dimension"
   ]
  },
  {
   "cell_type": "code",
   "execution_count": null,
   "metadata": {
    "execution": {
     "iopub.execute_input": "2022-04-06T08:08:59.275670Z",
     "iopub.status.busy": "2022-04-06T08:08:59.275507Z",
     "iopub.status.idle": "2022-04-06T08:08:59.279270Z",
     "shell.execute_reply": "2022-04-06T08:08:59.278851Z"
    }
   },
   "outputs": [],
   "source": [
    "ds_max = ds.max(\n",
    "    dim=\"x\", keep_attrs=True\n",
    ")  # Take the maximum of all data variables (e.g., Stokes, Temperature) along the x dimension"
   ]
  },
  {
   "cell_type": "code",
   "execution_count": null,
   "metadata": {
    "execution": {
     "iopub.execute_input": "2022-04-06T08:08:59.281530Z",
     "iopub.status.busy": "2022-04-06T08:08:59.281321Z",
     "iopub.status.idle": "2022-04-06T08:08:59.287525Z",
     "shell.execute_reply": "2022-04-06T08:08:59.286991Z"
    }
   },
   "outputs": [],
   "source": [
    "ds_std = ds.std(\n",
    "    dim=\"time\", keep_attrs=True\n",
    ")  # Calculate the standard deviation along the time dimension"
   ]
  },
  {
   "cell_type": "markdown",
   "metadata": {},
   "source": [
    "## 2 Selecting\n",
    "What if you would like to get the maximum temperature between $x >= 20$ m and $x < 35$ m over time? We first have to select a section along the cable."
   ]
  },
  {
   "cell_type": "code",
   "execution_count": null,
   "metadata": {
    "execution": {
     "iopub.execute_input": "2022-04-06T08:08:59.290091Z",
     "iopub.status.busy": "2022-04-06T08:08:59.289877Z",
     "iopub.status.idle": "2022-04-06T08:08:59.293824Z",
     "shell.execute_reply": "2022-04-06T08:08:59.293152Z"
    }
   },
   "outputs": [],
   "source": [
    "section = slice(20.0, 35.0)\n",
    "section_of_interest = ds.sel(x=section)"
   ]
  },
  {
   "cell_type": "code",
   "execution_count": null,
   "metadata": {
    "execution": {
     "iopub.execute_input": "2022-04-06T08:08:59.296109Z",
     "iopub.status.busy": "2022-04-06T08:08:59.295850Z",
     "iopub.status.idle": "2022-04-06T08:08:59.299802Z",
     "shell.execute_reply": "2022-04-06T08:08:59.299282Z"
    }
   },
   "outputs": [],
   "source": [
    "section_of_interest_max = section_of_interest.max(dim=\"x\")"
   ]
  },
  {
   "cell_type": "markdown",
   "metadata": {},
   "source": [
    "What if you would like to have the measurement at approximately $x=20$ m?"
   ]
  },
  {
   "cell_type": "code",
   "execution_count": null,
   "metadata": {
    "execution": {
     "iopub.execute_input": "2022-04-06T08:08:59.302128Z",
     "iopub.status.busy": "2022-04-06T08:08:59.301950Z",
     "iopub.status.idle": "2022-04-06T08:08:59.306081Z",
     "shell.execute_reply": "2022-04-06T08:08:59.305484Z"
    }
   },
   "outputs": [],
   "source": [
    "point_of_interest = ds.sel(x=20.0, method=\"nearest\")"
   ]
  },
  {
   "cell_type": "markdown",
   "metadata": {},
   "source": [
    "## 3 Selecting by index\n",
    "What if you would like to see what the values on the first timestep are? We can use isel (index select) "
   ]
  },
  {
   "cell_type": "code",
   "execution_count": null,
   "metadata": {
    "execution": {
     "iopub.execute_input": "2022-04-06T08:08:59.308603Z",
     "iopub.status.busy": "2022-04-06T08:08:59.308281Z",
     "iopub.status.idle": "2022-04-06T08:08:59.312353Z",
     "shell.execute_reply": "2022-04-06T08:08:59.311877Z"
    },
    "scrolled": true
   },
   "outputs": [],
   "source": [
    "section_of_interest = ds.isel(time=slice(0, 2))  # The first two time steps"
   ]
  },
  {
   "cell_type": "code",
   "execution_count": null,
   "metadata": {
    "execution": {
     "iopub.execute_input": "2022-04-06T08:08:59.314626Z",
     "iopub.status.busy": "2022-04-06T08:08:59.314411Z",
     "iopub.status.idle": "2022-04-06T08:08:59.317904Z",
     "shell.execute_reply": "2022-04-06T08:08:59.317392Z"
    }
   },
   "outputs": [],
   "source": [
    "section_of_interest = ds.isel(x=0)"
   ]
  },
  {
   "cell_type": "markdown",
   "metadata": {},
   "source": [
    "## 4 Downsample (time dimension)\n",
    "We currently have measurements at 3 time steps, with 30.001 seconds inbetween. For our next exercise we would like to down sample the measurements to 2 time steps with 47 seconds inbetween. The calculated variances are not valid anymore. We use the function `resample_datastore`."
   ]
  },
  {
   "cell_type": "code",
   "execution_count": null,
   "metadata": {
    "execution": {
     "iopub.execute_input": "2022-04-06T08:08:59.320236Z",
     "iopub.status.busy": "2022-04-06T08:08:59.320029Z",
     "iopub.status.idle": "2022-04-06T08:08:59.341833Z",
     "shell.execute_reply": "2022-04-06T08:08:59.341341Z"
    }
   },
   "outputs": [],
   "source": [
    "ds_resampled = ds.resample_datastore(how=\"mean\", time=\"47S\")"
   ]
  },
  {
   "cell_type": "markdown",
   "metadata": {},
   "source": [
    "## 5 Upsample / Interpolation (length and time dimension)\n",
    "So we have measurements every 0.12 cm starting at $x=0$ m. What if we would like to change our coordinate system to have a value every 12 cm starting at $x=0.05$ m. We use (linear) interpolation, extrapolation is not supported. The calculated variances are not valid anymore."
   ]
  },
  {
   "cell_type": "code",
   "execution_count": null,
   "metadata": {
    "execution": {
     "iopub.execute_input": "2022-04-06T08:08:59.344388Z",
     "iopub.status.busy": "2022-04-06T08:08:59.344165Z",
     "iopub.status.idle": "2022-04-06T08:08:59.353186Z",
     "shell.execute_reply": "2022-04-06T08:08:59.352734Z"
    }
   },
   "outputs": [],
   "source": [
    "x_old = ds.x.data\n",
    "x_new = x_old[:-1] + 0.05  # no extrapolation\n",
    "ds_xinterped = ds.interp(coords={\"x\": x_new})"
   ]
  },
  {
   "cell_type": "markdown",
   "metadata": {},
   "source": [
    "We can do the same in the time dimension"
   ]
  },
  {
   "cell_type": "code",
   "execution_count": null,
   "metadata": {
    "execution": {
     "iopub.execute_input": "2022-04-06T08:08:59.355702Z",
     "iopub.status.busy": "2022-04-06T08:08:59.355479Z",
     "iopub.status.idle": "2022-04-06T08:08:59.371585Z",
     "shell.execute_reply": "2022-04-06T08:08:59.371063Z"
    }
   },
   "outputs": [],
   "source": [
    "import numpy as np\n",
    "\n",
    "time_old = ds.time.data\n",
    "time_new = time_old + np.timedelta64(10, \"s\")\n",
    "ds_tinterped = ds.interp(coords={\"time\": time_new})"
   ]
  },
  {
   "cell_type": "code",
   "execution_count": null,
   "metadata": {},
   "outputs": [],
   "source": []
  }
 ],
 "metadata": {
  "kernelspec": {
   "display_name": "Python 3",
   "language": "python",
   "name": "python3"
  },
  "language_info": {
   "codemirror_mode": {
    "name": "ipython",
    "version": 3
   },
   "file_extension": ".py",
   "mimetype": "text/x-python",
   "name": "python",
   "nbconvert_exporter": "python",
   "pygments_lexer": "ipython3",
   "version": "3.9.11"
  }
 },
 "nbformat": 4,
 "nbformat_minor": 2
}
