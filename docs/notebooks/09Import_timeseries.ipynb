{
 "cells": [
  {
   "cell_type": "markdown",
   "metadata": {},
   "source": [
    "# 9. Import a time series"
   ]
  },
  {
   "cell_type": "markdown",
   "metadata": {},
   "source": [
    "In this tutorial we are adding a timeseries to the DataStore object. This might be useful if the temperature in one of the calibration baths was measured with an external device. It requires three steps to add the measurement files to the DataStore object:\n",
    "1. Load the measurement files (e.g., csv, txt) with pandas into a pandas.Series object\n",
    "2. Add the pandas.Series object to the DataStore\n",
    "3. Align the time to that of the DTS measurement (required for calibration)"
   ]
  },
  {
   "cell_type": "code",
   "execution_count": null,
   "metadata": {
    "execution": {
     "iopub.execute_input": "2022-04-06T08:10:31.444824Z",
     "iopub.status.busy": "2022-04-06T08:10:31.444098Z",
     "iopub.status.idle": "2022-04-06T08:10:32.898656Z",
     "shell.execute_reply": "2022-04-06T08:10:32.897961Z"
    }
   },
   "outputs": [],
   "source": [
    "import pandas as pd\n",
    "import os\n",
    "\n",
    "from dtscalibration import read_silixa_files"
   ]
  },
  {
   "cell_type": "markdown",
   "metadata": {},
   "source": [
    "## Step 1: load the measurement files"
   ]
  },
  {
   "cell_type": "code",
   "execution_count": null,
   "metadata": {
    "execution": {
     "iopub.execute_input": "2022-04-06T08:10:32.901423Z",
     "iopub.status.busy": "2022-04-06T08:10:32.901062Z",
     "iopub.status.idle": "2022-04-06T08:10:32.905451Z",
     "shell.execute_reply": "2022-04-06T08:10:32.904987Z"
    }
   },
   "outputs": [],
   "source": [
    "filepath = os.path.join(\n",
    "    \"..\",\n",
    "    \"..\",\n",
    "    \"tests\",\n",
    "    \"data\",\n",
    "    \"external_temperature_timeseries\",\n",
    "    \"Loodswaternet2018-03-28 02h.csv\",\n",
    ")\n",
    "\n",
    "# Bonus:\n",
    "print(filepath, \"\\n\")\n",
    "with open(filepath, \"r\") as f:\n",
    "    head = [next(f) for _ in range(5)]\n",
    "print(\" \".join(head))"
   ]
  },
  {
   "cell_type": "code",
   "execution_count": null,
   "metadata": {
    "execution": {
     "iopub.execute_input": "2022-04-06T08:10:32.928616Z",
     "iopub.status.busy": "2022-04-06T08:10:32.927992Z",
     "iopub.status.idle": "2022-04-06T08:10:33.076019Z",
     "shell.execute_reply": "2022-04-06T08:10:33.075543Z"
    }
   },
   "outputs": [],
   "source": [
    "ts = pd.read_csv(\n",
    "    filepath, sep=\",\", index_col=0, parse_dates=True, squeeze=True, engine=\"python\"\n",
    ")  # the latter 2 kwargs are to ensure a pd.Series is returned\n",
    "ts = ts.tz_localize(\"Europe/Amsterdam\")  # set the timezone"
   ]
  },
  {
   "cell_type": "code",
   "execution_count": null,
   "metadata": {
    "execution": {
     "iopub.execute_input": "2022-04-06T08:10:33.078306Z",
     "iopub.status.busy": "2022-04-06T08:10:33.078143Z",
     "iopub.status.idle": "2022-04-06T08:10:33.088386Z",
     "shell.execute_reply": "2022-04-06T08:10:33.087913Z"
    }
   },
   "outputs": [],
   "source": [
    "ts.head()  # Double check the timezone"
   ]
  },
  {
   "cell_type": "markdown",
   "metadata": {},
   "source": [
    "Now we quickly create a DataStore from xml-files with Stokes measurements to add the external timeseries to"
   ]
  },
  {
   "cell_type": "code",
   "execution_count": null,
   "metadata": {
    "execution": {
     "iopub.execute_input": "2022-04-06T08:10:33.090805Z",
     "iopub.status.busy": "2022-04-06T08:10:33.090642Z",
     "iopub.status.idle": "2022-04-06T08:10:33.301302Z",
     "shell.execute_reply": "2022-04-06T08:10:33.300636Z"
    }
   },
   "outputs": [],
   "source": [
    "filepath_ds = os.path.join(\"..\", \"..\", \"tests\", \"data\", \"double_ended2\")\n",
    "ds = read_silixa_files(directory=filepath_ds, timezone_netcdf=\"UTC\", file_ext=\"*.xml\")"
   ]
  },
  {
   "cell_type": "markdown",
   "metadata": {},
   "source": [
    "## Step 2: Add the temperature measurements of the external probe to the DataStore.\n",
    "\n",
    "First add the coordinates"
   ]
  },
  {
   "cell_type": "code",
   "execution_count": null,
   "metadata": {
    "execution": {
     "iopub.execute_input": "2022-04-06T08:10:33.303735Z",
     "iopub.status.busy": "2022-04-06T08:10:33.303562Z",
     "iopub.status.idle": "2022-04-06T08:10:33.308068Z",
     "shell.execute_reply": "2022-04-06T08:10:33.307543Z"
    }
   },
   "outputs": [],
   "source": [
    "ds.coords[\"time_external\"] = ts.index.values"
   ]
  },
  {
   "cell_type": "markdown",
   "metadata": {},
   "source": [
    "Second we add the measured values"
   ]
  },
  {
   "cell_type": "code",
   "execution_count": null,
   "metadata": {
    "execution": {
     "iopub.execute_input": "2022-04-06T08:10:33.310439Z",
     "iopub.status.busy": "2022-04-06T08:10:33.310255Z",
     "iopub.status.idle": "2022-04-06T08:10:33.315622Z",
     "shell.execute_reply": "2022-04-06T08:10:33.315088Z"
    }
   },
   "outputs": [],
   "source": [
    "ds[\"external_probe\"] = ((\"time_external\",), ts)"
   ]
  },
  {
   "cell_type": "markdown",
   "metadata": {},
   "source": [
    "## Step 3: Align the time of the external measurements to the Stokes measurement times\n",
    "We linearly interpolate the measurements of the external sensor to the times we have DTS measurements"
   ]
  },
  {
   "cell_type": "code",
   "execution_count": null,
   "metadata": {
    "execution": {
     "iopub.execute_input": "2022-04-06T08:10:33.318123Z",
     "iopub.status.busy": "2022-04-06T08:10:33.317912Z",
     "iopub.status.idle": "2022-04-06T08:10:33.328112Z",
     "shell.execute_reply": "2022-04-06T08:10:33.327546Z"
    }
   },
   "outputs": [],
   "source": [
    "ds[\"external_probe_dts\"] = ds[\"external_probe\"].interp(time_external=ds.time)"
   ]
  },
  {
   "cell_type": "code",
   "execution_count": null,
   "metadata": {
    "execution": {
     "iopub.execute_input": "2022-04-06T08:10:33.330579Z",
     "iopub.status.busy": "2022-04-06T08:10:33.330405Z",
     "iopub.status.idle": "2022-04-06T08:10:33.342398Z",
     "shell.execute_reply": "2022-04-06T08:10:33.341846Z"
    },
    "scrolled": true
   },
   "outputs": [],
   "source": [
    "print(ds.data_vars)"
   ]
  },
  {
   "cell_type": "markdown",
   "metadata": {},
   "source": [
    "Now we can use `external_probe_dts` when we define sections and use it for calibration"
   ]
  },
  {
   "cell_type": "code",
   "execution_count": null,
   "metadata": {},
   "outputs": [],
   "source": []
  }
 ],
 "metadata": {
  "kernelspec": {
   "display_name": "Python 3 (ipykernel)",
   "language": "python",
   "name": "python3"
  },
  "language_info": {
   "codemirror_mode": {
    "name": "ipython",
    "version": 3
   },
   "file_extension": ".py",
   "mimetype": "text/x-python",
   "name": "python",
   "nbconvert_exporter": "python",
   "pygments_lexer": "ipython3",
   "version": "3.10.10"
  }
 },
 "nbformat": 4,
 "nbformat_minor": 2
}
