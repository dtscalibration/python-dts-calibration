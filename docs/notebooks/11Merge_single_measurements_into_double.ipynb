{
 "cells": [
  {
   "cell_type": "markdown",
   "metadata": {},
   "source": [
    "# 11. Merge two single-ended measurements into a double-ended datastore"
   ]
  },
  {
   "cell_type": "markdown",
   "metadata": {},
   "source": [
    "Often people have set up a double ended cable to be measured as if it were two single ended setups, to prevent loss of data as some manufacturers throw out some raw data when doing double ended measurements. To do the double ended calibration the two channels have to be merged into a single datastore and aligned."
   ]
  },
  {
   "cell_type": "code",
   "execution_count": null,
   "metadata": {
    "execution": {
     "iopub.execute_input": "2022-04-06T08:10:52.703382Z",
     "iopub.status.busy": "2022-04-06T08:10:52.702888Z",
     "iopub.status.idle": "2022-04-06T08:10:54.162720Z",
     "shell.execute_reply": "2022-04-06T08:10:54.162117Z"
    }
   },
   "outputs": [],
   "source": [
    "import os\n",
    "from dtscalibration import read_silixa_files\n",
    "from dtscalibration.datastore_utils import (\n",
    "    suggest_cable_shift_double_ended,\n",
    "    shift_double_ended,\n",
    "    merge_double_ended,\n",
    ")\n",
    "import numpy as np\n",
    "import matplotlib.pyplot as plt\n",
    "\n",
    "%matplotlib inline"
   ]
  },
  {
   "cell_type": "markdown",
   "metadata": {},
   "source": [
    "We load in both channels into seperate datastores"
   ]
  },
  {
   "cell_type": "code",
   "execution_count": null,
   "metadata": {
    "execution": {
     "iopub.execute_input": "2022-04-06T08:10:54.165375Z",
     "iopub.status.busy": "2022-04-06T08:10:54.165182Z",
     "iopub.status.idle": "2022-04-06T08:10:55.230962Z",
     "shell.execute_reply": "2022-04-06T08:10:55.230377Z"
    }
   },
   "outputs": [],
   "source": [
    "filepath_ch1 = os.path.join(\n",
    "    \"..\", \"..\", \"tests\", \"data\", \"double_single_ended\", \"channel_1\"\n",
    ")\n",
    "filepath_ch2 = os.path.join(\n",
    "    \"..\", \"..\", \"tests\", \"data\", \"double_single_ended\", \"channel_2\"\n",
    ")\n",
    "\n",
    "ds_ch1 = read_silixa_files(\n",
    "    directory=filepath_ch1, timezone_netcdf=\"UTC\", file_ext=\"*.xml\"\n",
    ")\n",
    "\n",
    "ds_ch2 = read_silixa_files(\n",
    "    directory=filepath_ch2, timezone_netcdf=\"UTC\", file_ext=\"*.xml\"\n",
    ")"
   ]
  },
  {
   "cell_type": "markdown",
   "metadata": {},
   "source": [
    "When plotting the data the two datasets already look quite similar as it is a duplex measurement."
   ]
  },
  {
   "cell_type": "code",
   "execution_count": null,
   "metadata": {
    "execution": {
     "iopub.execute_input": "2022-04-06T08:10:55.233522Z",
     "iopub.status.busy": "2022-04-06T08:10:55.233341Z",
     "iopub.status.idle": "2022-04-06T08:10:55.444418Z",
     "shell.execute_reply": "2022-04-06T08:10:55.443824Z"
    }
   },
   "outputs": [],
   "source": [
    "ds_ch1.isel(time=0).st.plot(label=\"ST ch1\", lw=2)\n",
    "ds_ch2.isel(time=0).st.plot(label=\"ST ch2\")\n",
    "plt.legend()"
   ]
  },
  {
   "cell_type": "markdown",
   "metadata": {},
   "source": [
    "The second channel has to be flipped around to align the fibers correctly. To do this properly, a cable length has to be defined. This is the distance along the fiber between the connectors of channel 1 and channel 2.\n",
    "\n",
    "Make sure the two datasets are aligned time-wise and have the same amount of measurements in time. Now we can merge the two channels using the utilify function *merge_double_ended*"
   ]
  },
  {
   "cell_type": "code",
   "execution_count": null,
   "metadata": {
    "execution": {
     "iopub.execute_input": "2022-04-06T08:10:55.447124Z",
     "iopub.status.busy": "2022-04-06T08:10:55.446587Z",
     "iopub.status.idle": "2022-04-06T08:10:55.471473Z",
     "shell.execute_reply": "2022-04-06T08:10:55.470990Z"
    }
   },
   "outputs": [],
   "source": [
    "cable_length = 2017.7\n",
    "\n",
    "ds = merge_double_ended(\n",
    "    ds_fw=ds_ch1, ds_bw=ds_ch2, cable_length=cable_length, plot_result=False\n",
    ")\n",
    "\n",
    "print((ds.isel(time=0).st - ds.isel(time=0).rst).sum().values)"
   ]
  },
  {
   "cell_type": "markdown",
   "metadata": {},
   "source": [
    "To perfectly align the two measurements we can use the alignment utility. See the `align double-ended measurements Example notebook`. Before we do so, we select only the data of the phyisical cable and 10 meters of the internal reference coil.\n",
    "\n",
    "It turns out we were off by 3 datapoints, so let's shift it by that."
   ]
  },
  {
   "cell_type": "code",
   "execution_count": null,
   "metadata": {
    "execution": {
     "iopub.execute_input": "2022-04-06T08:10:55.473799Z",
     "iopub.status.busy": "2022-04-06T08:10:55.473643Z",
     "iopub.status.idle": "2022-04-06T08:10:56.029192Z",
     "shell.execute_reply": "2022-04-06T08:10:56.028538Z"
    },
    "scrolled": true
   },
   "outputs": [],
   "source": [
    "ds = ds.sel(x=slice(-10, cable_length + 10))\n",
    "\n",
    "shift1, shift2 = suggest_cable_shift_double_ended(\n",
    "    ds.isel(time=[0, -1]).compute(), np.arange(-10, 10, 1, dtype=int)\n",
    ")\n",
    "\n",
    "ds = shift_double_ended(ds, shift1)"
   ]
  },
  {
   "cell_type": "markdown",
   "metadata": {},
   "source": [
    "Now we can calibrate the data double ended as usual."
   ]
  },
  {
   "cell_type": "code",
   "execution_count": null,
   "metadata": {},
   "outputs": [],
   "source": []
  }
 ],
 "metadata": {
  "kernelspec": {
   "display_name": "Python 3 (ipykernel)",
   "language": "python",
   "name": "python3"
  },
  "language_info": {
   "codemirror_mode": {
    "name": "ipython",
    "version": 3
   },
   "file_extension": ".py",
   "mimetype": "text/x-python",
   "name": "python",
   "nbconvert_exporter": "python",
   "pygments_lexer": "ipython3",
   "version": "3.10.10"
  }
 },
 "nbformat": 4,
 "nbformat_minor": 2
}
