{
 "cells": [
  {
   "cell_type": "markdown",
   "metadata": {},
   "source": [
    "# 14. Calibration over (lossy) splices and connectors"
   ]
  },
  {
   "cell_type": "markdown",
   "metadata": {},
   "source": [
    "## Background\n",
    "While it is best practice to not have connectors or splices within a DTS calibration, sometimes it can't be avoided. For example, in a borehole the fibers in a duplex cable are often connected with either a splice or a loopback connector. \n",
    "\n",
    "Splices and connectors will cause a step loss in the signal strength, and with varying strain and temperature, this step loss will vary. In double ended setups this step loss can even be asymmetrical for the forward and backward measurements. All these effects have to be taken into account in the calibration.\n",
    "\n",
    "To calibrate over these splices/connectors, locations with 'transient attenuation' can be defined along the length of the fiber. Adding these does mean that more information is needed to perform the calibration, such as extra reference sections or matching sections of fiber. Matching sections will be explained in notebook 15.\n",
    "\n"
   ]
  },
  {
   "cell_type": "markdown",
   "metadata": {},
   "source": [
    "### Demonstration\n",
    "To demonstrate the effect of a lossy splice, we'll load the same dataset that was used in previous notebooks, and modify the data to simulate a lossy splice."
   ]
  },
  {
   "cell_type": "code",
   "execution_count": null,
   "metadata": {
    "execution": {
     "iopub.execute_input": "2022-04-06T08:11:25.641322Z",
     "iopub.status.busy": "2022-04-06T08:11:25.640590Z",
     "iopub.status.idle": "2022-04-06T08:11:27.122032Z",
     "shell.execute_reply": "2022-04-06T08:11:27.121371Z"
    }
   },
   "outputs": [],
   "source": [
    "import os\n",
    "\n",
    "from dtscalibration import read_silixa_files\n",
    "import matplotlib.pyplot as plt\n",
    "\n",
    "%matplotlib inline"
   ]
  },
  {
   "cell_type": "code",
   "execution_count": null,
   "metadata": {
    "execution": {
     "iopub.execute_input": "2022-04-06T08:11:27.124582Z",
     "iopub.status.busy": "2022-04-06T08:11:27.124371Z",
     "iopub.status.idle": "2022-04-06T08:11:27.423254Z",
     "shell.execute_reply": "2022-04-06T08:11:27.422619Z"
    }
   },
   "outputs": [],
   "source": [
    "filepath = os.path.join(\"..\", \"..\", \"tests\", \"data\", \"double_ended2\")\n",
    "\n",
    "ds_ = read_silixa_files(directory=filepath, timezone_netcdf=\"UTC\", file_ext=\"*.xml\")\n",
    "\n",
    "ds = ds_.sel(x=slice(0, 110))  # only calibrate parts of the fiber\n",
    "\n",
    "\n",
    "sections = {\n",
    "    \"probe1Temperature\": [slice(7.5, 17.0), slice(70.0, 80.0)],  # cold bath\n",
    "    \"probe2Temperature\": [slice(24.0, 34.0), slice(85.0, 95.0)],  # warm bath\n",
    "}\n",
    "ds.sections = sections"
   ]
  },
  {
   "cell_type": "markdown",
   "metadata": {},
   "source": [
    "To simulate the lossy splice, we introduce a step loss in the signal strength at x = 50 m. For the forward channel, this means all data beyond 50 meters is reduced with a 'random' factor. For the backward channel, this means all data up to 50 meters is reduced with a 'random' factor.\n",
    "\n",
    "In the plots of the Stokes and anti-Stokes signal the big step loss is clearly visible."
   ]
  },
  {
   "cell_type": "code",
   "execution_count": null,
   "metadata": {
    "execution": {
     "iopub.execute_input": "2022-04-06T08:11:27.425744Z",
     "iopub.status.busy": "2022-04-06T08:11:27.425525Z",
     "iopub.status.idle": "2022-04-06T08:11:27.446200Z",
     "shell.execute_reply": "2022-04-06T08:11:27.444863Z"
    }
   },
   "outputs": [],
   "source": [
    "ds[\"st\"] = ds.st.where(ds.x < 50, ds.st * 0.8)\n",
    "ds[\"ast\"] = ds.ast.where(ds.x < 50, ds.ast * 0.82)\n",
    "\n",
    "ds[\"rst\"] = ds.rst.where(ds.x > 50, ds.rst * 0.85)\n",
    "ds[\"rast\"] = ds.rast.where(ds.x > 50, ds.rast * 0.81)"
   ]
  },
  {
   "cell_type": "code",
   "execution_count": null,
   "metadata": {
    "execution": {
     "iopub.execute_input": "2022-04-06T08:11:27.451194Z",
     "iopub.status.busy": "2022-04-06T08:11:27.450909Z",
     "iopub.status.idle": "2022-04-06T08:11:27.730773Z",
     "shell.execute_reply": "2022-04-06T08:11:27.730254Z"
    }
   },
   "outputs": [],
   "source": [
    "ds.isel(time=0).st.plot(label=\"st\")\n",
    "ds.isel(time=0).ast.plot(label=\"ast\")\n",
    "ds.isel(time=0).rst.plot(label=\"rst\")\n",
    "ds.isel(time=0).rast.plot(label=\"rast\")\n",
    "plt.legend()"
   ]
  },
  {
   "cell_type": "markdown",
   "metadata": {},
   "source": [
    "We will first run a calibration without adding the transient attenuation location. A big jump in the calibrated temperature is visible at x = 50, and all temperatures before the jump are too low, and the temperatures after the jump are too high."
   ]
  },
  {
   "cell_type": "code",
   "execution_count": null,
   "metadata": {
    "execution": {
     "iopub.execute_input": "2022-04-06T08:11:27.733065Z",
     "iopub.status.busy": "2022-04-06T08:11:27.732874Z",
     "iopub.status.idle": "2022-04-06T08:11:29.152616Z",
     "shell.execute_reply": "2022-04-06T08:11:29.152100Z"
    }
   },
   "outputs": [],
   "source": [
    "ds_a = ds.copy(deep=True)\n",
    "\n",
    "st_var, resid = ds_a.variance_stokes(st_label=\"st\")\n",
    "ast_var, _ = ds_a.variance_stokes(st_label=\"ast\")\n",
    "rst_var, _ = ds_a.variance_stokes(st_label=\"rst\")\n",
    "rast_var, _ = ds_a.variance_stokes(st_label=\"rast\")\n",
    "\n",
    "ds_a.calibration_double_ended(\n",
    "    st_var=st_var,\n",
    "    ast_var=ast_var,\n",
    "    rst_var=rst_var,\n",
    "    rast_var=rast_var,\n",
    "    store_tmpw=\"tmpw\",\n",
    "    method=\"wls\",\n",
    "    solver=\"sparse\",\n",
    ")\n",
    "\n",
    "ds_a.isel(time=0).tmpw.plot(label=\"calibrated\")"
   ]
  },
  {
   "cell_type": "markdown",
   "metadata": {},
   "source": [
    "Now we run a calibration, adding the keyword argument '**trans_att**', and provide a list of floats containing the locations of the splices. In this case we only add a single one at x = 50 m. After running the calibration you will see that by adding the transient attenuation location the calibration returns the correct temperature, without the big jump.\n",
    "\n",
    "*In single-ended calibration the keyword is called '**trans_att**'.*"
   ]
  },
  {
   "cell_type": "code",
   "execution_count": null,
   "metadata": {
    "execution": {
     "iopub.execute_input": "2022-04-06T08:11:29.154854Z",
     "iopub.status.busy": "2022-04-06T08:11:29.154652Z",
     "iopub.status.idle": "2022-04-06T08:11:30.631923Z",
     "shell.execute_reply": "2022-04-06T08:11:30.631414Z"
    }
   },
   "outputs": [],
   "source": [
    "st_var, resid = ds.variance_stokes(st_label=\"st\")\n",
    "ast_var, _ = ds.variance_stokes(st_label=\"ast\")\n",
    "rst_var, _ = ds.variance_stokes(st_label=\"rst\")\n",
    "rast_var, _ = ds.variance_stokes(st_label=\"rast\")\n",
    "\n",
    "ds.calibration_double_ended(\n",
    "    st_var=st_var,\n",
    "    ast_var=ast_var,\n",
    "    rst_var=rst_var,\n",
    "    rast_var=rast_var,\n",
    "    trans_att=[50.0],\n",
    "    store_tmpw=\"tmpw\",\n",
    "    method=\"wls\",\n",
    "    solver=\"sparse\",\n",
    ")\n",
    "\n",
    "ds_a.isel(time=0).tmpw.plot(label=\"no trans. att.\")\n",
    "ds.isel(time=0).tmpw.plot(label=\"with trans. att.\")\n",
    "plt.legend()"
   ]
  },
  {
   "cell_type": "code",
   "execution_count": null,
   "metadata": {},
   "outputs": [],
   "source": []
  }
 ],
 "metadata": {
  "kernelspec": {
   "display_name": "Python 3",
   "language": "python",
   "name": "python3"
  },
  "language_info": {
   "codemirror_mode": {
    "name": "ipython",
    "version": 3
   },
   "file_extension": ".py",
   "mimetype": "text/x-python",
   "name": "python",
   "nbconvert_exporter": "python",
   "pygments_lexer": "ipython3",
   "version": "3.9.11"
  }
 },
 "nbformat": 4,
 "nbformat_minor": 2
}
