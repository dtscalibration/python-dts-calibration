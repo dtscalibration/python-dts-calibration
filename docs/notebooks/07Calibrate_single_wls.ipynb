{
 "cells": [
  {
   "cell_type": "markdown",
   "metadata": {},
   "source": [
    "# 7. Calibration of single ended measurement with WLS and confidence intervals"
   ]
  },
  {
   "cell_type": "markdown",
   "metadata": {},
   "source": [
    "A single-ended calibration is performed where the unknown parameters are estimated using fiber sections that have a reference temperature. The parameters are estimated with a weighted least squares optimization using Stokes and anti-Stokes measurements from all timesteps. Thus Stokes and anti-Stokes measurements with a large signal to noise ratio contribute more towards estimating the optimal parameter set. But an estimate of the noise variance is required.\n",
    "\n",
    "Single-ended calibration requires a few steps. Please have a look at [1] for more information:\n",
    "1. Read the raw data files loaded from your DTS machine\n",
    "2. Define the reference sections: fiber sections that have a known temperature.\n",
    "3. Estimate the variance of the noise in the Stokes and anti-Stokes measurements\n",
    "4. Perform the parameter search and compute the temperature along the entire fiber.\n",
    "5. Compute the confidence intervals for the temperature\n",
    "\n",
    "[1]: des Tombe, B., Schilperoort, B., & Bakker, M. (2020). Estimation of Temperature and Associated Uncertainty from Fiber-Optic Raman-Spectrum Distributed Temperature Sensing. Sensors, 20(8), 2235. https://doi.org/10.3390/s20082235"
   ]
  },
  {
   "cell_type": "code",
   "execution_count": null,
   "metadata": {
    "execution": {
     "iopub.execute_input": "2022-04-06T08:09:59.030201Z",
     "iopub.status.busy": "2022-04-06T08:09:59.029914Z",
     "iopub.status.idle": "2022-04-06T08:10:00.524659Z",
     "shell.execute_reply": "2022-04-06T08:10:00.524090Z"
    }
   },
   "outputs": [],
   "source": [
    "import os\n",
    "import warnings\n",
    "\n",
    "warnings.simplefilter('ignore')  # Hide warnings to avoid clutter in the notebook\n",
    "\n",
    "\n",
    "from dtscalibration import read_silixa_files\n",
    "import matplotlib.pyplot as plt\n",
    "%matplotlib inline"
   ]
  },
  {
   "cell_type": "code",
   "execution_count": null,
   "metadata": {
    "execution": {
     "iopub.execute_input": "2022-04-06T08:10:00.527515Z",
     "iopub.status.busy": "2022-04-06T08:10:00.526942Z",
     "iopub.status.idle": "2022-04-06T08:10:00.730573Z",
     "shell.execute_reply": "2022-04-06T08:10:00.729897Z"
    }
   },
   "outputs": [],
   "source": [
    "filepath = os.path.join('..', '..', 'tests', 'data', 'single_ended')\n",
    "ds = read_silixa_files(\n",
    "    directory=filepath,\n",
    "    timezone_netcdf='UTC',\n",
    "    file_ext='*.xml')\n",
    "\n",
    "ds = ds.sel(x=slice(-30, 101))  # only calibrate parts of the fiber\n",
    "sections = {\n",
    "            'probe1Temperature':    [slice(20, 25.5)],  # warm bath\n",
    "            'probe2Temperature':    [slice(5.5, 15.5)],  # cold bath\n",
    "#             'referenceTemperature': [slice(-24., -4)]  # The internal coil is not so uniform\n",
    "            }\n",
    "ds.sections = sections"
   ]
  },
  {
   "cell_type": "code",
   "execution_count": null,
   "metadata": {
    "execution": {
     "iopub.execute_input": "2022-04-06T08:10:00.754830Z",
     "iopub.status.busy": "2022-04-06T08:10:00.754655Z",
     "iopub.status.idle": "2022-04-06T08:10:00.758286Z",
     "shell.execute_reply": "2022-04-06T08:10:00.757744Z"
    }
   },
   "outputs": [],
   "source": [
    "print(ds.calibration_single_ended.__doc__)"
   ]
  },
  {
   "cell_type": "markdown",
   "metadata": {},
   "source": [
    "First calculate the variance in the measured Stokes and anti-Stokes signals, in the forward and backward direction.\n",
    "\n",
    "The Stokes and anti-Stokes signals should follow a smooth decaying exponential. This function fits a decaying exponential to each reference section for each time step. The variance of the residuals between the measured Stokes and anti-Stokes signals and the fitted signals is used as an estimate of the variance in measured signals."
   ]
  },
  {
   "cell_type": "code",
   "execution_count": null,
   "metadata": {
    "execution": {
     "iopub.execute_input": "2022-04-06T08:10:00.760555Z",
     "iopub.status.busy": "2022-04-06T08:10:00.760354Z",
     "iopub.status.idle": "2022-04-06T08:10:00.914629Z",
     "shell.execute_reply": "2022-04-06T08:10:00.914071Z"
    }
   },
   "outputs": [],
   "source": [
    "st_var, resid = ds.variance_stokes_constant(st_label='st')\n",
    "ast_var, _ = ds.variance_stokes_constant(st_label='ast')"
   ]
  },
  {
   "cell_type": "markdown",
   "metadata": {},
   "source": [
    "Similar to the ols procedure, we make a single function call to calibrate the temperature. If the method is `wls` and confidence intervals are passed to `conf_ints`, confidence intervals calculated. As weigths are correctly passed to the least squares procedure, the covariance matrix can be used. This matrix holds the covariances between all the parameters. A large parameter set is generated from this matrix, assuming the parameter space is normally distributed with their mean at the best estimate of the least squares procedure.\n",
    "\n",
    "The large parameter set is used to calculate a large set of temperatures. By using `percentiles` or `quantile` the 95% confidence interval of the calibrated temperature between 2.5% and 97.5% are calculated.\n",
    "\n",
    "The confidence intervals differ per time step. If you would like to calculate confidence intervals of temporal averages or of averages of fiber sections see notebook 16."
   ]
  },
  {
   "cell_type": "code",
   "execution_count": null,
   "metadata": {
    "execution": {
     "iopub.execute_input": "2022-04-06T08:10:00.916985Z",
     "iopub.status.busy": "2022-04-06T08:10:00.916764Z",
     "iopub.status.idle": "2022-04-06T08:10:00.967445Z",
     "shell.execute_reply": "2022-04-06T08:10:00.966707Z"
    }
   },
   "outputs": [],
   "source": [
    "ds.calibration_single_ended(sections=sections,\n",
    "                            st_var=st_var,\n",
    "                            ast_var=ast_var,\n",
    "                            method='wls')"
   ]
  },
  {
   "cell_type": "code",
   "execution_count": null,
   "metadata": {
    "execution": {
     "iopub.execute_input": "2022-04-06T08:10:00.969870Z",
     "iopub.status.busy": "2022-04-06T08:10:00.969667Z",
     "iopub.status.idle": "2022-04-06T08:10:01.062010Z",
     "shell.execute_reply": "2022-04-06T08:10:01.061477Z"
    }
   },
   "outputs": [],
   "source": [
    "ds.conf_int_single_ended(\n",
    "    st_var=st_var,\n",
    "    ast_var=ast_var,\n",
    "    conf_ints=[2.5, 97.5],\n",
    "    mc_sample_size=500)"
   ]
  },
  {
   "cell_type": "markdown",
   "metadata": {},
   "source": [
    "Lets compare our calibrated values with the device calibration"
   ]
  },
  {
   "cell_type": "code",
   "execution_count": null,
   "metadata": {
    "execution": {
     "iopub.execute_input": "2022-04-06T08:10:01.064432Z",
     "iopub.status.busy": "2022-04-06T08:10:01.064239Z",
     "iopub.status.idle": "2022-04-06T08:10:01.452267Z",
     "shell.execute_reply": "2022-04-06T08:10:01.451782Z"
    }
   },
   "outputs": [],
   "source": [
    "ds1 = ds.isel(time=0)  # take only the first timestep\n",
    "ds1.tmpf.plot(linewidth=0.8, figsize=(12, 8), label='User calibrated')  # plot the temperature calibrated by us\n",
    "ds1.tmp.plot(linewidth=0.8, label='Device calibrated')  # plot the temperature calibrated by the device\n",
    "ds1.tmpf_mc.plot(linewidth=0.8, hue='CI', label='CI device')\n",
    "plt.title('Temperature at the first time step')\n",
    "plt.legend();"
   ]
  },
  {
   "cell_type": "code",
   "execution_count": null,
   "metadata": {
    "execution": {
     "iopub.execute_input": "2022-04-06T08:10:01.454642Z",
     "iopub.status.busy": "2022-04-06T08:10:01.454452Z",
     "iopub.status.idle": "2022-04-06T08:10:01.785627Z",
     "shell.execute_reply": "2022-04-06T08:10:01.785039Z"
    }
   },
   "outputs": [],
   "source": [
    "ds.tmpf_mc_var.plot(figsize=(12, 8));"
   ]
  },
  {
   "cell_type": "code",
   "execution_count": null,
   "metadata": {
    "execution": {
     "iopub.execute_input": "2022-04-06T08:10:01.787752Z",
     "iopub.status.busy": "2022-04-06T08:10:01.787560Z",
     "iopub.status.idle": "2022-04-06T08:10:02.358032Z",
     "shell.execute_reply": "2022-04-06T08:10:02.357460Z"
    }
   },
   "outputs": [],
   "source": [
    "ds1.tmpf_mc.sel(CI=2.5).plot(label = '2.5% CI', figsize=(12, 8))\n",
    "ds1.tmpf_mc.sel(CI=97.5).plot(label = '97.5% CI')\n",
    "ds1.tmpf.plot(label='User calibrated')\n",
    "plt.title('User calibrated temperature with 95% confidence interval')\n",
    "plt.legend();"
   ]
  },
  {
   "cell_type": "markdown",
   "metadata": {},
   "source": [
    "We can tell from the graph above that the 95% confidence interval widens furtherdown the cable. Lets have a look at the calculated variance along the cable for a single timestep. According to the device manufacturer this should be around 0.0059 degC."
   ]
  },
  {
   "cell_type": "code",
   "execution_count": null,
   "metadata": {
    "execution": {
     "iopub.execute_input": "2022-04-06T08:10:02.360492Z",
     "iopub.status.busy": "2022-04-06T08:10:02.360281Z",
     "iopub.status.idle": "2022-04-06T08:10:02.665410Z",
     "shell.execute_reply": "2022-04-06T08:10:02.664935Z"
    }
   },
   "outputs": [],
   "source": [
    "ds1.tmpf_mc_var.plot(figsize=(12, 8));"
   ]
  },
  {
   "cell_type": "markdown",
   "metadata": {},
   "source": [
    "The variance of the temperature measurement appears to be larger than what the manufacturer reports. This is already the case for the internal cable; it is not caused by a dirty connector/bad splice on our side. Maybe the length of the calibration section was not sufficient.\n",
    "\n",
    "At 30 m the variance sharply increases. There are several possible explanations. E.g., large temperatures or decreased signal strength.\n",
    "\n",
    "Lets have a look at the Stokes and anti-Stokes signal."
   ]
  },
  {
   "cell_type": "code",
   "execution_count": null,
   "metadata": {
    "execution": {
     "iopub.execute_input": "2022-04-06T08:10:02.667828Z",
     "iopub.status.busy": "2022-04-06T08:10:02.667649Z",
     "iopub.status.idle": "2022-04-06T08:10:02.840983Z",
     "shell.execute_reply": "2022-04-06T08:10:02.840514Z"
    }
   },
   "outputs": [],
   "source": [
    "ds1.st.plot(figsize=(12, 8))\n",
    "ds1.ast.plot();"
   ]
  },
  {
   "cell_type": "markdown",
   "metadata": {},
   "source": [
    "Clearly there was a bad splice at 30 m that resulted in the sharp increase of measurement uncertainty for the cable section after the bad splice."
   ]
  }
 ],
 "metadata": {
  "kernelspec": {
   "display_name": "Python 3",
   "language": "python",
   "name": "python3"
  },
  "language_info": {
   "codemirror_mode": {
    "name": "ipython",
    "version": 3
   },
   "file_extension": ".py",
   "mimetype": "text/x-python",
   "name": "python",
   "nbconvert_exporter": "python",
   "pygments_lexer": "ipython3",
   "version": "3.9.11"
  }
 },
 "nbformat": 4,
 "nbformat_minor": 4
}
