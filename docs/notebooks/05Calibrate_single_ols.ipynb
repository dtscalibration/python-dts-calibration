{
 "cells": [
  {
   "cell_type": "markdown",
   "metadata": {},
   "source": [
    "# 5. Calibration of single-ended measurement with OLS"
   ]
  },
  {
   "cell_type": "markdown",
   "metadata": {},
   "source": [
    "Use WLS instead. See `examples/notebooks/07Calibrate_single_wls.ipynb`.\n",
    "\n",
    "A double ended calibration is performed with Ordinary Least Squares. Over all timesteps simultaneous. $\\gamma$ and $\\alpha$ remain constant, while $C$ varies over time. The weights are considered equal here and no variance or confidence interval is calculated.\n",
    "\n",
    "Note that the internal reference section can not be used since there is a connector between the internal and external fiber and therefore the integrated differential attenuation cannot be considered to be linear anymore."
   ]
  },
  {
   "cell_type": "code",
   "execution_count": null,
   "metadata": {
    "execution": {
     "iopub.execute_input": "2022-04-06T08:09:35.393302Z",
     "iopub.status.busy": "2022-04-06T08:09:35.392875Z",
     "iopub.status.idle": "2022-04-06T08:09:37.461713Z",
     "shell.execute_reply": "2022-04-06T08:09:37.461135Z"
    }
   },
   "outputs": [],
   "source": [
    "import os\n",
    "\n",
    "from dtscalibration import read_silixa_files\n",
    "import matplotlib.pyplot as plt\n",
    "\n",
    "%matplotlib inline"
   ]
  },
  {
   "cell_type": "code",
   "execution_count": null,
   "metadata": {
    "execution": {
     "iopub.execute_input": "2022-04-06T08:09:37.464466Z",
     "iopub.status.busy": "2022-04-06T08:09:37.464071Z",
     "iopub.status.idle": "2022-04-06T08:09:37.689220Z",
     "shell.execute_reply": "2022-04-06T08:09:37.688535Z"
    }
   },
   "outputs": [],
   "source": [
    "filepath = os.path.join('..', '..', 'tests', 'data', 'single_ended')\n",
    "\n",
    "ds = read_silixa_files(\n",
    "    directory=filepath,\n",
    "    timezone_netcdf='UTC',\n",
    "    file_ext='*.xml')\n",
    "\n",
    "ds100 = ds.sel(x=slice(-30, 101))  # only calibrate parts of the fiber, in meters\n",
    "sections = {\n",
    "            'probe1Temperature':    [slice(20, 25.5)],  # warm bath\n",
    "            'probe2Temperature':    [slice(5.5, 15.5)],  # cold bath\n",
    "            }\n",
    "ds100.sections = sections"
   ]
  },
  {
   "cell_type": "code",
   "execution_count": null,
   "metadata": {
    "execution": {
     "iopub.execute_input": "2022-04-06T08:09:37.717941Z",
     "iopub.status.busy": "2022-04-06T08:09:37.717519Z",
     "iopub.status.idle": "2022-04-06T08:09:37.722731Z",
     "shell.execute_reply": "2022-04-06T08:09:37.721982Z"
    }
   },
   "outputs": [],
   "source": [
    "print(ds100.calibration_single_ended.__doc__)"
   ]
  },
  {
   "cell_type": "code",
   "execution_count": null,
   "metadata": {
    "execution": {
     "iopub.execute_input": "2022-04-06T08:09:37.725778Z",
     "iopub.status.busy": "2022-04-06T08:09:37.725580Z",
     "iopub.status.idle": "2022-04-06T08:09:37.767953Z",
     "shell.execute_reply": "2022-04-06T08:09:37.767360Z"
    }
   },
   "outputs": [],
   "source": [
    "ds100.calibration_single_ended(method='ols')"
   ]
  },
  {
   "cell_type": "markdown",
   "metadata": {},
   "source": [
    "Lets compare our calibrated values with the device calibration"
   ]
  },
  {
   "cell_type": "code",
   "execution_count": null,
   "metadata": {
    "execution": {
     "iopub.execute_input": "2022-04-06T08:09:37.772158Z",
     "iopub.status.busy": "2022-04-06T08:09:37.771685Z",
     "iopub.status.idle": "2022-04-06T08:09:38.073557Z",
     "shell.execute_reply": "2022-04-06T08:09:38.073028Z"
    }
   },
   "outputs": [],
   "source": [
    "ds1 = ds100.isel(time=0)  # take only the first timestep\n",
    "\n",
    "ds1.tmpf.plot(linewidth=1, figsize=(12, 8), label='User calibrated')  # plot the temperature calibrated by us\n",
    "ds1.tmp.plot(linewidth=1, label='Device calibrated')  # plot the temperature calibrated by the device\n",
    "plt.title('Temperature at the first time step')\n",
    "plt.legend();"
   ]
  },
  {
   "cell_type": "code",
   "execution_count": null,
   "metadata": {},
   "outputs": [],
   "source": []
  }
 ],
 "metadata": {
  "kernelspec": {
   "display_name": "Python 3",
   "language": "python",
   "name": "python3"
  },
  "language_info": {
   "codemirror_mode": {
    "name": "ipython",
    "version": 3
   },
   "file_extension": ".py",
   "mimetype": "text/x-python",
   "name": "python",
   "nbconvert_exporter": "python",
   "pygments_lexer": "ipython3",
   "version": "3.9.11"
  }
 },
 "nbformat": 4,
 "nbformat_minor": 4
}
