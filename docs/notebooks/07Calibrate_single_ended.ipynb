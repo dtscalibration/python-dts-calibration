{
 "cells": [
  {
   "cell_type": "markdown",
   "metadata": {},
   "source": [
    "# 7. Calibration of single-ended measurement"
   ]
  },
  {
   "cell_type": "markdown",
   "metadata": {},
   "source": [
    "A single-ended DTS measurement setup is a setup where the measurements are taken from one ending of the fiber, e.g., only one ending is connected to the DTS device. Opposed to double-ended setups, where measurements are taken from both endings of the fiber, the calibration of single-ended setups require the additional assumption that the losses (differential attenuation) is constant along the fiber. E.g., a sharp bend result additional losses and causes a false jump in the temperature. The estimation of the measurement uncertainty also assumes constant losses.\n",
    "\n",
    "A single-ended calibration is performed where the unknown parameters are estimated using fiber sections that have a reference temperature. The parameters are estimated with a weighted least squares optimization using Stokes and anti-Stokes measurements from all timesteps. Thus Stokes and anti-Stokes measurements with a large signal to noise ratio contribute more towards estimating the optimal parameter set, but an estimate of the noise variance is required.\n",
    "\n",
    "Single-ended calibration requires a few steps:\n",
    "1. Read the raw data files loaded from your DTS machine\n",
    "2. Define the reference sections: fiber sections that have a known temperature.\n",
    "3. Estimate the variance of the noise in the Stokes and anti-Stokes measurements\n",
    "4. Perform the parameter search and compute the temperature along the entire fiber.\n",
    "5. Plot the temperature and uncertainty of the estimated temperature\n",
    "\n",
    "Please have a look at [1] for more information.\n",
    "\n",
    "[1]: des Tombe, B., Schilperoort, B., & Bakker, M. (2020). Estimation of Temperature and Associated Uncertainty from Fiber-Optic Raman-Spectrum Distributed Temperature Sensing. Sensors, 20(8), 2235. https://doi.org/10.3390/s20082235"
   ]
  },
  {
   "cell_type": "code",
   "execution_count": null,
   "metadata": {
    "execution": {
     "iopub.execute_input": "2022-04-06T08:09:59.030201Z",
     "iopub.status.busy": "2022-04-06T08:09:59.029914Z",
     "iopub.status.idle": "2022-04-06T08:10:00.524659Z",
     "shell.execute_reply": "2022-04-06T08:10:00.524090Z"
    }
   },
   "outputs": [],
   "source": [
    "import os\n",
    "\n",
    "from dtscalibration import read_silixa_files\n",
    "import matplotlib.pyplot as plt\n",
    "\n",
    "%matplotlib inline"
   ]
  },
  {
   "cell_type": "markdown",
   "metadata": {},
   "source": [
    "# Read the raw data files loaded from your DTS machine\n",
    "Use `read_silixa_files` for reading files from a Silixa device. The following functions are available for reading files from other devices: `read_sensortran_files`, `read_apsensing_files`, and `read_sensornet_files`. See Notebook 1.\n",
    "\n",
    "Calibration is performed on sections that have a known"
   ]
  },
  {
   "cell_type": "code",
   "execution_count": null,
   "metadata": {
    "execution": {
     "iopub.execute_input": "2022-04-06T08:10:00.527515Z",
     "iopub.status.busy": "2022-04-06T08:10:00.526942Z",
     "iopub.status.idle": "2022-04-06T08:10:00.730573Z",
     "shell.execute_reply": "2022-04-06T08:10:00.729897Z"
    }
   },
   "outputs": [],
   "source": [
    "filepath = os.path.join(\"..\", \"..\", \"tests\", \"data\", \"single_ended\")\n",
    "ds = read_silixa_files(directory=filepath, timezone_netcdf=\"UTC\", file_ext=\"*.xml\")"
   ]
  },
  {
   "cell_type": "markdown",
   "metadata": {},
   "source": [
    "# Define the reference fiber sections that have a known temperature\n",
    "As explained in Notebook 3. DTS devices come with temperature probes to measure the temperature of the water baths. These measurements are stored in the data that was loaded in the previous step and are loaded automatically. In the case you would like to use an external temperature sensor, have a look at notebook `09Import_timeseries` to append those measurements to the `ds` before continuing with the calibration. "
   ]
  },
  {
   "cell_type": "code",
   "execution_count": null,
   "metadata": {},
   "outputs": [],
   "source": [
    "ds = ds.sel(x=slice(-30, 101))  # dismiss parts of the fiber that are not interesting\n",
    "ds.sections = {\n",
    "    \"probe1Temperature\": [slice(20, 25.5)],  # warm bath\n",
    "    \"probe2Temperature\": [slice(5.5, 15.5)],  # cold bath\n",
    "}"
   ]
  },
  {
   "cell_type": "markdown",
   "metadata": {},
   "source": [
    "# Estimate the variance of the noise in the Stokes and anti-Stokes measurements\n",
    "First calculate the variance of the noise in the measured Stokes and anti-Stokes signals. See Notebook 4 for more information.\n",
    "\n",
    "The Stokes and anti-Stokes signals should follow a smooth decaying exponential. This function fits a decaying exponential to each reference section for each time step. The variance of the residuals between the measured Stokes and anti-Stokes signals and the fitted signals is used as an estimate of the variance in measured signals. This algorithm assumes that the temperature is the same for the entire section but may vary over time and differ per section."
   ]
  },
  {
   "cell_type": "code",
   "execution_count": null,
   "metadata": {
    "execution": {
     "iopub.execute_input": "2022-04-06T08:10:00.760555Z",
     "iopub.status.busy": "2022-04-06T08:10:00.760354Z",
     "iopub.status.idle": "2022-04-06T08:10:00.914629Z",
     "shell.execute_reply": "2022-04-06T08:10:00.914071Z"
    }
   },
   "outputs": [],
   "source": [
    "st_var, resid = ds.variance_stokes_constant(st_label=\"st\")\n",
    "ast_var, _ = ds.variance_stokes_constant(st_label=\"ast\")"
   ]
  },
  {
   "cell_type": "markdown",
   "metadata": {},
   "source": [
    "The following plot can be used to check if there are no spatial or temporal correlated residuals. If you see horizontal or vertical lines that means that you overestimate the st_var. Common reasons are that the temperature of that section is not uniform, e.g. that the reference sections were defined falsely or that the temperature of the water baths were not uniform."
   ]
  },
  {
   "cell_type": "code",
   "execution_count": null,
   "metadata": {},
   "outputs": [],
   "source": [
    "resid.plot(figsize=(12, 4));"
   ]
  },
  {
   "cell_type": "markdown",
   "metadata": {},
   "source": [
    "# Perform calibration and compute the temperature\n",
    "We calibrate the measurements and their uncertainty with a single method call. The temperature is stored by default as the `ds.tmpf` dataarray and the variance of its approximation as `ds.tmpf_var`."
   ]
  },
  {
   "cell_type": "code",
   "execution_count": null,
   "metadata": {
    "execution": {
     "iopub.execute_input": "2022-04-06T08:10:00.916985Z",
     "iopub.status.busy": "2022-04-06T08:10:00.916764Z",
     "iopub.status.idle": "2022-04-06T08:10:00.967445Z",
     "shell.execute_reply": "2022-04-06T08:10:00.966707Z"
    }
   },
   "outputs": [],
   "source": [
    "ds.calibration_single_ended(st_var=st_var, ast_var=ast_var)"
   ]
  },
  {
   "cell_type": "markdown",
   "metadata": {},
   "source": [
    "# Plot the temperature and uncertainty of the estimated temperature\n",
    "First, the temperature for the entire fiber is plotted. Second, the temperature and its standard error are plotted for the first timestep."
   ]
  },
  {
   "cell_type": "code",
   "execution_count": null,
   "metadata": {},
   "outputs": [],
   "source": [
    "ds.tmpf.plot(figsize=(12, 4));"
   ]
  },
  {
   "cell_type": "code",
   "execution_count": null,
   "metadata": {},
   "outputs": [],
   "source": [
    "ds1 = ds.isel(time=0)\n",
    "ds1.tmpf.plot(figsize=(12, 4))\n",
    "(ds1.tmpf_var**0.5).plot(figsize=(12, 4))\n",
    "plt.ylabel(\"$\\sigma$ ($^\\circ$C)\");"
   ]
  },
  {
   "cell_type": "markdown",
   "metadata": {},
   "source": [
    "The variance of the temperature measurement appears to be larger than what the manufacturer reports. This is already the case for the internal cable; it is not caused by a dirty connector/bad splice on our side. Maybe the length of the calibration section was not sufficient.\n",
    "\n",
    "At 30 m the variance sharply increases. There are several possible explanations. E.g., large temperatures or decreased signal strength.\n",
    "\n",
    "Lets have a look at the Stokes and anti-Stokes signal."
   ]
  },
  {
   "cell_type": "code",
   "execution_count": null,
   "metadata": {
    "execution": {
     "iopub.execute_input": "2022-04-06T08:10:02.667828Z",
     "iopub.status.busy": "2022-04-06T08:10:02.667649Z",
     "iopub.status.idle": "2022-04-06T08:10:02.840983Z",
     "shell.execute_reply": "2022-04-06T08:10:02.840514Z"
    }
   },
   "outputs": [],
   "source": [
    "ds1.st.plot(figsize=(12, 8))\n",
    "ds1.ast.plot();"
   ]
  },
  {
   "cell_type": "markdown",
   "metadata": {},
   "source": [
    "Clearly there was a bad splice at 30 m that resulted in the sharp increase of measurement uncertainty for the cable section after the bad splice."
   ]
  },
  {
   "cell_type": "markdown",
   "metadata": {},
   "source": [
    "Note that the uncertainty of the temperature strongly varies along the fiber. Dive deeper in the uncertainty of the temperature estimate in another notebook"
   ]
  }
 ],
 "metadata": {
  "kernelspec": {
   "display_name": "Python 3 (ipykernel)",
   "language": "python",
   "name": "python3"
  },
  "language_info": {
   "codemirror_mode": {
    "name": "ipython",
    "version": 3
   },
   "file_extension": ".py",
   "mimetype": "text/x-python",
   "name": "python",
   "nbconvert_exporter": "python",
   "pygments_lexer": "ipython3",
   "version": "3.10.10"
  }
 },
 "nbformat": 4,
 "nbformat_minor": 4
}
