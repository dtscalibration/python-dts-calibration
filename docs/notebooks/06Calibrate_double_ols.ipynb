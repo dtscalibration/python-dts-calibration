{
 "cells": [
  {
   "cell_type": "markdown",
   "metadata": {},
   "source": [
    "# 6. Calibration of double ended measurement with OLS"
   ]
  },
  {
   "cell_type": "markdown",
   "metadata": {},
   "source": [
    "Use WLS instead. See `examples/notebooks/08Calibrate_double_wls.ipynb`.\n",
    "\n",
    "A double ended calibration is performed with ordinary least squares. Over all timesteps simultaneous. $\\gamma$ and $\\int_0^l\\alpha$d$x$ remain constant, while $C$ varies over time. The weights are considered equal here and no variance is calculated.\n",
    "\n",
    "Before starting the calibration procedure, the forward and the backward channel should be aligned."
   ]
  },
  {
   "cell_type": "code",
   "execution_count": null,
   "metadata": {
    "execution": {
     "iopub.execute_input": "2022-04-06T08:09:46.793203Z",
     "iopub.status.busy": "2022-04-06T08:09:46.792653Z",
     "iopub.status.idle": "2022-04-06T08:09:48.805880Z",
     "shell.execute_reply": "2022-04-06T08:09:48.805278Z"
    }
   },
   "outputs": [],
   "source": [
    "import os\n",
    "\n",
    "from dtscalibration import read_silixa_files\n",
    "import matplotlib.pyplot as plt\n",
    "%matplotlib inline"
   ]
  },
  {
   "cell_type": "code",
   "execution_count": null,
   "metadata": {
    "execution": {
     "iopub.execute_input": "2022-04-06T08:09:48.808712Z",
     "iopub.status.busy": "2022-04-06T08:09:48.808445Z",
     "iopub.status.idle": "2022-04-06T08:09:49.147190Z",
     "shell.execute_reply": "2022-04-06T08:09:49.146093Z"
    }
   },
   "outputs": [],
   "source": [
    "filepath = os.path.join('..', '..', 'tests', 'data', 'double_ended2')\n",
    "\n",
    "ds = read_silixa_files(\n",
    "    directory=filepath,\n",
    "    timezone_netcdf='UTC',\n",
    "    file_ext='*.xml')\n",
    "\n",
    "ds100 = ds.sel(x=slice(0, 100))  # only calibrate parts of the fiber\n",
    "sections = {\n",
    "    'probe1Temperature': [slice(7.5, 17.), slice(70., 80.)],  # cold bath\n",
    "    'probe2Temperature': [slice(24., 34.), slice(85., 95.)],  # warm bath\n",
    "    }"
   ]
  },
  {
   "cell_type": "code",
   "execution_count": null,
   "metadata": {
    "execution": {
     "iopub.execute_input": "2022-04-06T08:09:49.150289Z",
     "iopub.status.busy": "2022-04-06T08:09:49.150011Z",
     "iopub.status.idle": "2022-04-06T08:09:49.155322Z",
     "shell.execute_reply": "2022-04-06T08:09:49.154228Z"
    }
   },
   "outputs": [],
   "source": [
    "print(ds100.calibration_double_ended.__doc__)"
   ]
  },
  {
   "cell_type": "code",
   "execution_count": null,
   "metadata": {
    "execution": {
     "iopub.execute_input": "2022-04-06T08:09:49.159254Z",
     "iopub.status.busy": "2022-04-06T08:09:49.158748Z",
     "iopub.status.idle": "2022-04-06T08:09:49.325305Z",
     "shell.execute_reply": "2022-04-06T08:09:49.324611Z"
    }
   },
   "outputs": [],
   "source": [
    "ds100.calibration_double_ended(sections=sections,\n",
    "                               method='ols')"
   ]
  },
  {
   "cell_type": "markdown",
   "metadata": {},
   "source": [
    "After calibration, two data variables are added to the `DataStore` object:\n",
    "- `tmpf`, temperature calculated along the forward direction\n",
    "- `tmpb`, temperature calculated along the backward direction\n",
    "\n",
    "A better estimate, with a lower expected variance, of the temperature along the fiber is the average of the two. We cannot weigh on more than the other, as we do not have more information about the weighing."
   ]
  },
  {
   "cell_type": "code",
   "execution_count": null,
   "metadata": {
    "execution": {
     "iopub.execute_input": "2022-04-06T08:09:49.328702Z",
     "iopub.status.busy": "2022-04-06T08:09:49.328431Z",
     "iopub.status.idle": "2022-04-06T08:09:49.658369Z",
     "shell.execute_reply": "2022-04-06T08:09:49.657823Z"
    }
   },
   "outputs": [],
   "source": [
    "ds1 = ds100.isel(time=0)  # take only the first timestep\n",
    "\n",
    "ds1.tmpf.plot(linewidth=1, label='User cali. Forward', figsize=(12, 8))  # plot the temperature calibrated by us\n",
    "ds1.tmpb.plot(linewidth=1, label='User cali. Backward')  # plot the temperature calibrated by us\n",
    "ds1.tmp.plot(linewidth=1, label='Device calibrated')  # plot the temperature calibrated by the device\n",
    "plt.legend();"
   ]
  },
  {
   "cell_type": "markdown",
   "metadata": {},
   "source": [
    "Lets compare our calibrated values with the device calibration. Lets average the temperature of the forward channel and the backward channel first."
   ]
  },
  {
   "cell_type": "code",
   "execution_count": null,
   "metadata": {
    "execution": {
     "iopub.execute_input": "2022-04-06T08:09:49.661194Z",
     "iopub.status.busy": "2022-04-06T08:09:49.661029Z",
     "iopub.status.idle": "2022-04-06T08:09:49.883632Z",
     "shell.execute_reply": "2022-04-06T08:09:49.882492Z"
    }
   },
   "outputs": [],
   "source": [
    "ds1['TMPAVG'] = (ds1.tmpf + ds1.tmpb) / 2\n",
    "ds1_diff = ds1.tmp - ds1.TMPAVG\n",
    "\n",
    "ds1_diff.plot(figsize=(12, 8));"
   ]
  },
  {
   "cell_type": "markdown",
   "metadata": {},
   "source": [
    "The device calibration sections and calibration sections defined by us differ. The device only allows for 2 sections, one per thermometer. And most likely the $\\gamma$ is fixed in the device calibration."
   ]
  },
  {
   "cell_type": "code",
   "execution_count": null,
   "metadata": {},
   "outputs": [],
   "source": []
  }
 ],
 "metadata": {
  "kernelspec": {
   "display_name": "Python 3",
   "language": "python",
   "name": "python3"
  },
  "language_info": {
   "codemirror_mode": {
    "name": "ipython",
    "version": 3
   },
   "file_extension": ".py",
   "mimetype": "text/x-python",
   "name": "python",
   "nbconvert_exporter": "python",
   "pygments_lexer": "ipython3",
   "version": "3.9.11"
  }
 },
 "nbformat": 4,
 "nbformat_minor": 4
}
